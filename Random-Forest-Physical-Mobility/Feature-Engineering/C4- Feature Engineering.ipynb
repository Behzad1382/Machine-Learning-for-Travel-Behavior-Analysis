{
 "cells": [
  {
   "cell_type": "code",
   "execution_count": 1,
   "id": "d4a2cd83",
   "metadata": {},
   "outputs": [],
   "source": [
    "import pandas as pd\n",
    "from sklearn.ensemble import RandomForestClassifier\n",
    "from sklearn.model_selection import train_test_split\n",
    "from sklearn.preprocessing import OneHotEncoder, StandardScaler\n",
    "from sklearn.compose import ColumnTransformer\n",
    "from sklearn.pipeline import Pipeline\n",
    "from sklearn.metrics import classification_report"
   ]
  },
  {
   "cell_type": "code",
   "execution_count": 2,
   "id": "5b58e638",
   "metadata": {},
   "outputs": [],
   "source": [
    "file_path = 'C:\\\\Users\\\\monam\\\\OneDrive\\\\Desktop\\\\testtC4.csv'\n",
    "data = pd.read_csv(file_path)"
   ]
  },
  {
   "cell_type": "code",
   "execution_count": 3,
   "id": "3bd752f0",
   "metadata": {},
   "outputs": [
    {
     "ename": "KeyError",
     "evalue": "\"['target_variable_name'] not found in axis\"",
     "output_type": "error",
     "traceback": [
      "\u001b[1;31m---------------------------------------------------------------------------\u001b[0m",
      "\u001b[1;31mKeyError\u001b[0m                                  Traceback (most recent call last)",
      "Cell \u001b[1;32mIn[3], line 1\u001b[0m\n\u001b[1;32m----> 1\u001b[0m X \u001b[38;5;241m=\u001b[39m data\u001b[38;5;241m.\u001b[39mdrop(\u001b[38;5;124m'\u001b[39m\u001b[38;5;124mtarget_variable_name\u001b[39m\u001b[38;5;124m'\u001b[39m, axis\u001b[38;5;241m=\u001b[39m\u001b[38;5;241m1\u001b[39m)  \u001b[38;5;66;03m# Replace 'target_variable_name' with the actual column name\u001b[39;00m\n\u001b[0;32m      2\u001b[0m y \u001b[38;5;241m=\u001b[39m data[\u001b[38;5;124m'\u001b[39m\u001b[38;5;124mtarget_variable_name\u001b[39m\u001b[38;5;124m'\u001b[39m]  \u001b[38;5;66;03m# This is your target variable\u001b[39;00m\n\u001b[0;32m      4\u001b[0m \u001b[38;5;66;03m# Split the data into training and testing sets\u001b[39;00m\n",
      "File \u001b[1;32m~\\anaconda3\\Lib\\site-packages\\pandas\\core\\frame.py:5347\u001b[0m, in \u001b[0;36mDataFrame.drop\u001b[1;34m(self, labels, axis, index, columns, level, inplace, errors)\u001b[0m\n\u001b[0;32m   5199\u001b[0m \u001b[38;5;28;01mdef\u001b[39;00m \u001b[38;5;21mdrop\u001b[39m(\n\u001b[0;32m   5200\u001b[0m     \u001b[38;5;28mself\u001b[39m,\n\u001b[0;32m   5201\u001b[0m     labels: IndexLabel \u001b[38;5;241m|\u001b[39m \u001b[38;5;28;01mNone\u001b[39;00m \u001b[38;5;241m=\u001b[39m \u001b[38;5;28;01mNone\u001b[39;00m,\n\u001b[1;32m   (...)\u001b[0m\n\u001b[0;32m   5208\u001b[0m     errors: IgnoreRaise \u001b[38;5;241m=\u001b[39m \u001b[38;5;124m\"\u001b[39m\u001b[38;5;124mraise\u001b[39m\u001b[38;5;124m\"\u001b[39m,\n\u001b[0;32m   5209\u001b[0m ) \u001b[38;5;241m-\u001b[39m\u001b[38;5;241m>\u001b[39m DataFrame \u001b[38;5;241m|\u001b[39m \u001b[38;5;28;01mNone\u001b[39;00m:\n\u001b[0;32m   5210\u001b[0m \u001b[38;5;250m    \u001b[39m\u001b[38;5;124;03m\"\"\"\u001b[39;00m\n\u001b[0;32m   5211\u001b[0m \u001b[38;5;124;03m    Drop specified labels from rows or columns.\u001b[39;00m\n\u001b[0;32m   5212\u001b[0m \n\u001b[1;32m   (...)\u001b[0m\n\u001b[0;32m   5345\u001b[0m \u001b[38;5;124;03m            weight  1.0     0.8\u001b[39;00m\n\u001b[0;32m   5346\u001b[0m \u001b[38;5;124;03m    \"\"\"\u001b[39;00m\n\u001b[1;32m-> 5347\u001b[0m     \u001b[38;5;28;01mreturn\u001b[39;00m \u001b[38;5;28msuper\u001b[39m()\u001b[38;5;241m.\u001b[39mdrop(\n\u001b[0;32m   5348\u001b[0m         labels\u001b[38;5;241m=\u001b[39mlabels,\n\u001b[0;32m   5349\u001b[0m         axis\u001b[38;5;241m=\u001b[39maxis,\n\u001b[0;32m   5350\u001b[0m         index\u001b[38;5;241m=\u001b[39mindex,\n\u001b[0;32m   5351\u001b[0m         columns\u001b[38;5;241m=\u001b[39mcolumns,\n\u001b[0;32m   5352\u001b[0m         level\u001b[38;5;241m=\u001b[39mlevel,\n\u001b[0;32m   5353\u001b[0m         inplace\u001b[38;5;241m=\u001b[39minplace,\n\u001b[0;32m   5354\u001b[0m         errors\u001b[38;5;241m=\u001b[39merrors,\n\u001b[0;32m   5355\u001b[0m     )\n",
      "File \u001b[1;32m~\\anaconda3\\Lib\\site-packages\\pandas\\core\\generic.py:4711\u001b[0m, in \u001b[0;36mNDFrame.drop\u001b[1;34m(self, labels, axis, index, columns, level, inplace, errors)\u001b[0m\n\u001b[0;32m   4709\u001b[0m \u001b[38;5;28;01mfor\u001b[39;00m axis, labels \u001b[38;5;129;01min\u001b[39;00m axes\u001b[38;5;241m.\u001b[39mitems():\n\u001b[0;32m   4710\u001b[0m     \u001b[38;5;28;01mif\u001b[39;00m labels \u001b[38;5;129;01mis\u001b[39;00m \u001b[38;5;129;01mnot\u001b[39;00m \u001b[38;5;28;01mNone\u001b[39;00m:\n\u001b[1;32m-> 4711\u001b[0m         obj \u001b[38;5;241m=\u001b[39m obj\u001b[38;5;241m.\u001b[39m_drop_axis(labels, axis, level\u001b[38;5;241m=\u001b[39mlevel, errors\u001b[38;5;241m=\u001b[39merrors)\n\u001b[0;32m   4713\u001b[0m \u001b[38;5;28;01mif\u001b[39;00m inplace:\n\u001b[0;32m   4714\u001b[0m     \u001b[38;5;28mself\u001b[39m\u001b[38;5;241m.\u001b[39m_update_inplace(obj)\n",
      "File \u001b[1;32m~\\anaconda3\\Lib\\site-packages\\pandas\\core\\generic.py:4753\u001b[0m, in \u001b[0;36mNDFrame._drop_axis\u001b[1;34m(self, labels, axis, level, errors, only_slice)\u001b[0m\n\u001b[0;32m   4751\u001b[0m         new_axis \u001b[38;5;241m=\u001b[39m axis\u001b[38;5;241m.\u001b[39mdrop(labels, level\u001b[38;5;241m=\u001b[39mlevel, errors\u001b[38;5;241m=\u001b[39merrors)\n\u001b[0;32m   4752\u001b[0m     \u001b[38;5;28;01melse\u001b[39;00m:\n\u001b[1;32m-> 4753\u001b[0m         new_axis \u001b[38;5;241m=\u001b[39m axis\u001b[38;5;241m.\u001b[39mdrop(labels, errors\u001b[38;5;241m=\u001b[39merrors)\n\u001b[0;32m   4754\u001b[0m     indexer \u001b[38;5;241m=\u001b[39m axis\u001b[38;5;241m.\u001b[39mget_indexer(new_axis)\n\u001b[0;32m   4756\u001b[0m \u001b[38;5;66;03m# Case for non-unique axis\u001b[39;00m\n\u001b[0;32m   4757\u001b[0m \u001b[38;5;28;01melse\u001b[39;00m:\n",
      "File \u001b[1;32m~\\anaconda3\\Lib\\site-packages\\pandas\\core\\indexes\\base.py:6992\u001b[0m, in \u001b[0;36mIndex.drop\u001b[1;34m(self, labels, errors)\u001b[0m\n\u001b[0;32m   6990\u001b[0m \u001b[38;5;28;01mif\u001b[39;00m mask\u001b[38;5;241m.\u001b[39many():\n\u001b[0;32m   6991\u001b[0m     \u001b[38;5;28;01mif\u001b[39;00m errors \u001b[38;5;241m!=\u001b[39m \u001b[38;5;124m\"\u001b[39m\u001b[38;5;124mignore\u001b[39m\u001b[38;5;124m\"\u001b[39m:\n\u001b[1;32m-> 6992\u001b[0m         \u001b[38;5;28;01mraise\u001b[39;00m \u001b[38;5;167;01mKeyError\u001b[39;00m(\u001b[38;5;124mf\u001b[39m\u001b[38;5;124m\"\u001b[39m\u001b[38;5;132;01m{\u001b[39;00mlabels[mask]\u001b[38;5;241m.\u001b[39mtolist()\u001b[38;5;132;01m}\u001b[39;00m\u001b[38;5;124m not found in axis\u001b[39m\u001b[38;5;124m\"\u001b[39m)\n\u001b[0;32m   6993\u001b[0m     indexer \u001b[38;5;241m=\u001b[39m indexer[\u001b[38;5;241m~\u001b[39mmask]\n\u001b[0;32m   6994\u001b[0m \u001b[38;5;28;01mreturn\u001b[39;00m \u001b[38;5;28mself\u001b[39m\u001b[38;5;241m.\u001b[39mdelete(indexer)\n",
      "\u001b[1;31mKeyError\u001b[0m: \"['target_variable_name'] not found in axis\""
     ]
    }
   ],
   "source": [
    "X = data.drop('target_variable_name', axis=1)  # Replace 'target_variable_name' with the actual column name\n",
    "y = data['target_variable_name']  # This is your target variable\n",
    "\n",
    "# Split the data into training and testing sets\n",
    "X_train, X_test, y_train, y_test = train_test_split(X, y, test_size=0.3, random_state=42)"
   ]
  },
  {
   "cell_type": "code",
   "execution_count": 4,
   "id": "942081a3",
   "metadata": {},
   "outputs": [],
   "source": [
    "X = data.drop('C4', axis=1)  # Drop the target variable to create the features dataset\n",
    "y = data['C4']  # This is your target variable\n",
    "\n",
    "# Split the data into training and testing sets\n",
    "X_train, X_test, y_train, y_test = train_test_split(X, y, test_size=0.3, random_state=42)"
   ]
  },
  {
   "cell_type": "code",
   "execution_count": 5,
   "id": "8444f306",
   "metadata": {},
   "outputs": [
    {
     "data": {
      "text/html": [
       "<style>#sk-container-id-1 {color: black;}#sk-container-id-1 pre{padding: 0;}#sk-container-id-1 div.sk-toggleable {background-color: white;}#sk-container-id-1 label.sk-toggleable__label {cursor: pointer;display: block;width: 100%;margin-bottom: 0;padding: 0.3em;box-sizing: border-box;text-align: center;}#sk-container-id-1 label.sk-toggleable__label-arrow:before {content: \"▸\";float: left;margin-right: 0.25em;color: #696969;}#sk-container-id-1 label.sk-toggleable__label-arrow:hover:before {color: black;}#sk-container-id-1 div.sk-estimator:hover label.sk-toggleable__label-arrow:before {color: black;}#sk-container-id-1 div.sk-toggleable__content {max-height: 0;max-width: 0;overflow: hidden;text-align: left;background-color: #f0f8ff;}#sk-container-id-1 div.sk-toggleable__content pre {margin: 0.2em;color: black;border-radius: 0.25em;background-color: #f0f8ff;}#sk-container-id-1 input.sk-toggleable__control:checked~div.sk-toggleable__content {max-height: 200px;max-width: 100%;overflow: auto;}#sk-container-id-1 input.sk-toggleable__control:checked~label.sk-toggleable__label-arrow:before {content: \"▾\";}#sk-container-id-1 div.sk-estimator input.sk-toggleable__control:checked~label.sk-toggleable__label {background-color: #d4ebff;}#sk-container-id-1 div.sk-label input.sk-toggleable__control:checked~label.sk-toggleable__label {background-color: #d4ebff;}#sk-container-id-1 input.sk-hidden--visually {border: 0;clip: rect(1px 1px 1px 1px);clip: rect(1px, 1px, 1px, 1px);height: 1px;margin: -1px;overflow: hidden;padding: 0;position: absolute;width: 1px;}#sk-container-id-1 div.sk-estimator {font-family: monospace;background-color: #f0f8ff;border: 1px dotted black;border-radius: 0.25em;box-sizing: border-box;margin-bottom: 0.5em;}#sk-container-id-1 div.sk-estimator:hover {background-color: #d4ebff;}#sk-container-id-1 div.sk-parallel-item::after {content: \"\";width: 100%;border-bottom: 1px solid gray;flex-grow: 1;}#sk-container-id-1 div.sk-label:hover label.sk-toggleable__label {background-color: #d4ebff;}#sk-container-id-1 div.sk-serial::before {content: \"\";position: absolute;border-left: 1px solid gray;box-sizing: border-box;top: 0;bottom: 0;left: 50%;z-index: 0;}#sk-container-id-1 div.sk-serial {display: flex;flex-direction: column;align-items: center;background-color: white;padding-right: 0.2em;padding-left: 0.2em;position: relative;}#sk-container-id-1 div.sk-item {position: relative;z-index: 1;}#sk-container-id-1 div.sk-parallel {display: flex;align-items: stretch;justify-content: center;background-color: white;position: relative;}#sk-container-id-1 div.sk-item::before, #sk-container-id-1 div.sk-parallel-item::before {content: \"\";position: absolute;border-left: 1px solid gray;box-sizing: border-box;top: 0;bottom: 0;left: 50%;z-index: -1;}#sk-container-id-1 div.sk-parallel-item {display: flex;flex-direction: column;z-index: 1;position: relative;background-color: white;}#sk-container-id-1 div.sk-parallel-item:first-child::after {align-self: flex-end;width: 50%;}#sk-container-id-1 div.sk-parallel-item:last-child::after {align-self: flex-start;width: 50%;}#sk-container-id-1 div.sk-parallel-item:only-child::after {width: 0;}#sk-container-id-1 div.sk-dashed-wrapped {border: 1px dashed gray;margin: 0 0.4em 0.5em 0.4em;box-sizing: border-box;padding-bottom: 0.4em;background-color: white;}#sk-container-id-1 div.sk-label label {font-family: monospace;font-weight: bold;display: inline-block;line-height: 1.2em;}#sk-container-id-1 div.sk-label-container {text-align: center;}#sk-container-id-1 div.sk-container {/* jupyter's `normalize.less` sets `[hidden] { display: none; }` but bootstrap.min.css set `[hidden] { display: none !important; }` so we also need the `!important` here to be able to override the default hidden behavior on the sphinx rendered scikit-learn.org. See: https://github.com/scikit-learn/scikit-learn/issues/21755 */display: inline-block !important;position: relative;}#sk-container-id-1 div.sk-text-repr-fallback {display: none;}</style><div id=\"sk-container-id-1\" class=\"sk-top-container\"><div class=\"sk-text-repr-fallback\"><pre>Pipeline(steps=[(&#x27;preprocessor&#x27;,\n",
       "                 ColumnTransformer(transformers=[(&#x27;num&#x27;, StandardScaler(),\n",
       "                                                  [&#x27;EXP_1&#x27;, &#x27;EXP_2&#x27;, &#x27;IMP_1&#x27;,\n",
       "                                                   &#x27;IMP_2&#x27;, &#x27;RES_1&#x27;, &#x27;RES_2&#x27;,\n",
       "                                                   &#x27;RES_3&#x27;, &#x27;RES_4&#x27;, &#x27;FOOBE_1&#x27;,\n",
       "                                                   &#x27;FOOBE_3&#x27;, &#x27;FOOBE_4&#x27;,\n",
       "                                                   &#x27;FOOBE_5&#x27;, &#x27;FOOBE_9&#x27;,\n",
       "                                                   &#x27;NEP_1&#x27;, &#x27;NEP_2&#x27;, &#x27;NEP_3&#x27;,\n",
       "                                                   &#x27;SN_1&#x27;, &#x27;SN_2&#x27;, &#x27;FAI_1&#x27;,\n",
       "                                                   &#x27;FAI_2&#x27;, &#x27;SR_1&#x27;, &#x27;SR_2&#x27;,\n",
       "                                                   &#x27;SC_1&#x27;, &#x27;AFC_1&#x27;, &#x27;AFC_2&#x27;,\n",
       "                                                   &#x27;TH_1&#x27;, &#x27;TH_2&#x27;, &#x27;TH_3&#x27;,\n",
       "                                                   &#x27;COPK_1&#x27;, &#x27;COPK_2&#x27;, ...]),\n",
       "                                                 (&#x27;cat&#x27;, OneHotEncoder(),\n",
       "                                                  [&#x27;AGE&#x27;, &#x27;GEN&#x27;, &#x27;DIS&#x27;, &#x27;EDU&#x27;,\n",
       "                                                   &#x27;CWS&#x27;, &#x27;HHI&#x27;])])),\n",
       "                (&#x27;classifier&#x27;, RandomForestClassifier(random_state=42))])</pre><b>In a Jupyter environment, please rerun this cell to show the HTML representation or trust the notebook. <br />On GitHub, the HTML representation is unable to render, please try loading this page with nbviewer.org.</b></div><div class=\"sk-container\" hidden><div class=\"sk-item sk-dashed-wrapped\"><div class=\"sk-label-container\"><div class=\"sk-label sk-toggleable\"><input class=\"sk-toggleable__control sk-hidden--visually\" id=\"sk-estimator-id-1\" type=\"checkbox\" ><label for=\"sk-estimator-id-1\" class=\"sk-toggleable__label sk-toggleable__label-arrow\">Pipeline</label><div class=\"sk-toggleable__content\"><pre>Pipeline(steps=[(&#x27;preprocessor&#x27;,\n",
       "                 ColumnTransformer(transformers=[(&#x27;num&#x27;, StandardScaler(),\n",
       "                                                  [&#x27;EXP_1&#x27;, &#x27;EXP_2&#x27;, &#x27;IMP_1&#x27;,\n",
       "                                                   &#x27;IMP_2&#x27;, &#x27;RES_1&#x27;, &#x27;RES_2&#x27;,\n",
       "                                                   &#x27;RES_3&#x27;, &#x27;RES_4&#x27;, &#x27;FOOBE_1&#x27;,\n",
       "                                                   &#x27;FOOBE_3&#x27;, &#x27;FOOBE_4&#x27;,\n",
       "                                                   &#x27;FOOBE_5&#x27;, &#x27;FOOBE_9&#x27;,\n",
       "                                                   &#x27;NEP_1&#x27;, &#x27;NEP_2&#x27;, &#x27;NEP_3&#x27;,\n",
       "                                                   &#x27;SN_1&#x27;, &#x27;SN_2&#x27;, &#x27;FAI_1&#x27;,\n",
       "                                                   &#x27;FAI_2&#x27;, &#x27;SR_1&#x27;, &#x27;SR_2&#x27;,\n",
       "                                                   &#x27;SC_1&#x27;, &#x27;AFC_1&#x27;, &#x27;AFC_2&#x27;,\n",
       "                                                   &#x27;TH_1&#x27;, &#x27;TH_2&#x27;, &#x27;TH_3&#x27;,\n",
       "                                                   &#x27;COPK_1&#x27;, &#x27;COPK_2&#x27;, ...]),\n",
       "                                                 (&#x27;cat&#x27;, OneHotEncoder(),\n",
       "                                                  [&#x27;AGE&#x27;, &#x27;GEN&#x27;, &#x27;DIS&#x27;, &#x27;EDU&#x27;,\n",
       "                                                   &#x27;CWS&#x27;, &#x27;HHI&#x27;])])),\n",
       "                (&#x27;classifier&#x27;, RandomForestClassifier(random_state=42))])</pre></div></div></div><div class=\"sk-serial\"><div class=\"sk-item sk-dashed-wrapped\"><div class=\"sk-label-container\"><div class=\"sk-label sk-toggleable\"><input class=\"sk-toggleable__control sk-hidden--visually\" id=\"sk-estimator-id-2\" type=\"checkbox\" ><label for=\"sk-estimator-id-2\" class=\"sk-toggleable__label sk-toggleable__label-arrow\">preprocessor: ColumnTransformer</label><div class=\"sk-toggleable__content\"><pre>ColumnTransformer(transformers=[(&#x27;num&#x27;, StandardScaler(),\n",
       "                                 [&#x27;EXP_1&#x27;, &#x27;EXP_2&#x27;, &#x27;IMP_1&#x27;, &#x27;IMP_2&#x27;, &#x27;RES_1&#x27;,\n",
       "                                  &#x27;RES_2&#x27;, &#x27;RES_3&#x27;, &#x27;RES_4&#x27;, &#x27;FOOBE_1&#x27;,\n",
       "                                  &#x27;FOOBE_3&#x27;, &#x27;FOOBE_4&#x27;, &#x27;FOOBE_5&#x27;, &#x27;FOOBE_9&#x27;,\n",
       "                                  &#x27;NEP_1&#x27;, &#x27;NEP_2&#x27;, &#x27;NEP_3&#x27;, &#x27;SN_1&#x27;, &#x27;SN_2&#x27;,\n",
       "                                  &#x27;FAI_1&#x27;, &#x27;FAI_2&#x27;, &#x27;SR_1&#x27;, &#x27;SR_2&#x27;, &#x27;SC_1&#x27;,\n",
       "                                  &#x27;AFC_1&#x27;, &#x27;AFC_2&#x27;, &#x27;TH_1&#x27;, &#x27;TH_2&#x27;, &#x27;TH_3&#x27;,\n",
       "                                  &#x27;COPK_1&#x27;, &#x27;COPK_2&#x27;, ...]),\n",
       "                                (&#x27;cat&#x27;, OneHotEncoder(),\n",
       "                                 [&#x27;AGE&#x27;, &#x27;GEN&#x27;, &#x27;DIS&#x27;, &#x27;EDU&#x27;, &#x27;CWS&#x27;, &#x27;HHI&#x27;])])</pre></div></div></div><div class=\"sk-parallel\"><div class=\"sk-parallel-item\"><div class=\"sk-item\"><div class=\"sk-label-container\"><div class=\"sk-label sk-toggleable\"><input class=\"sk-toggleable__control sk-hidden--visually\" id=\"sk-estimator-id-3\" type=\"checkbox\" ><label for=\"sk-estimator-id-3\" class=\"sk-toggleable__label sk-toggleable__label-arrow\">num</label><div class=\"sk-toggleable__content\"><pre>[&#x27;EXP_1&#x27;, &#x27;EXP_2&#x27;, &#x27;IMP_1&#x27;, &#x27;IMP_2&#x27;, &#x27;RES_1&#x27;, &#x27;RES_2&#x27;, &#x27;RES_3&#x27;, &#x27;RES_4&#x27;, &#x27;FOOBE_1&#x27;, &#x27;FOOBE_3&#x27;, &#x27;FOOBE_4&#x27;, &#x27;FOOBE_5&#x27;, &#x27;FOOBE_9&#x27;, &#x27;NEP_1&#x27;, &#x27;NEP_2&#x27;, &#x27;NEP_3&#x27;, &#x27;SN_1&#x27;, &#x27;SN_2&#x27;, &#x27;FAI_1&#x27;, &#x27;FAI_2&#x27;, &#x27;SR_1&#x27;, &#x27;SR_2&#x27;, &#x27;SC_1&#x27;, &#x27;AFC_1&#x27;, &#x27;AFC_2&#x27;, &#x27;TH_1&#x27;, &#x27;TH_2&#x27;, &#x27;TH_3&#x27;, &#x27;COPK_1&#x27;, &#x27;COPK_2&#x27;, &#x27;COPK_3&#x27;, &#x27;CLK_1&#x27;, &#x27;CLK_2&#x27;, &#x27;CLK_3&#x27;, &#x27;INF_1&#x27;, &#x27;INF_2&#x27;, &#x27;INF_3&#x27;, &#x27;INF_4&#x27;]</pre></div></div></div><div class=\"sk-serial\"><div class=\"sk-item\"><div class=\"sk-estimator sk-toggleable\"><input class=\"sk-toggleable__control sk-hidden--visually\" id=\"sk-estimator-id-4\" type=\"checkbox\" ><label for=\"sk-estimator-id-4\" class=\"sk-toggleable__label sk-toggleable__label-arrow\">StandardScaler</label><div class=\"sk-toggleable__content\"><pre>StandardScaler()</pre></div></div></div></div></div></div><div class=\"sk-parallel-item\"><div class=\"sk-item\"><div class=\"sk-label-container\"><div class=\"sk-label sk-toggleable\"><input class=\"sk-toggleable__control sk-hidden--visually\" id=\"sk-estimator-id-5\" type=\"checkbox\" ><label for=\"sk-estimator-id-5\" class=\"sk-toggleable__label sk-toggleable__label-arrow\">cat</label><div class=\"sk-toggleable__content\"><pre>[&#x27;AGE&#x27;, &#x27;GEN&#x27;, &#x27;DIS&#x27;, &#x27;EDU&#x27;, &#x27;CWS&#x27;, &#x27;HHI&#x27;]</pre></div></div></div><div class=\"sk-serial\"><div class=\"sk-item\"><div class=\"sk-estimator sk-toggleable\"><input class=\"sk-toggleable__control sk-hidden--visually\" id=\"sk-estimator-id-6\" type=\"checkbox\" ><label for=\"sk-estimator-id-6\" class=\"sk-toggleable__label sk-toggleable__label-arrow\">OneHotEncoder</label><div class=\"sk-toggleable__content\"><pre>OneHotEncoder()</pre></div></div></div></div></div></div></div></div><div class=\"sk-item\"><div class=\"sk-estimator sk-toggleable\"><input class=\"sk-toggleable__control sk-hidden--visually\" id=\"sk-estimator-id-7\" type=\"checkbox\" ><label for=\"sk-estimator-id-7\" class=\"sk-toggleable__label sk-toggleable__label-arrow\">RandomForestClassifier</label><div class=\"sk-toggleable__content\"><pre>RandomForestClassifier(random_state=42)</pre></div></div></div></div></div></div></div>"
      ],
      "text/plain": [
       "Pipeline(steps=[('preprocessor',\n",
       "                 ColumnTransformer(transformers=[('num', StandardScaler(),\n",
       "                                                  ['EXP_1', 'EXP_2', 'IMP_1',\n",
       "                                                   'IMP_2', 'RES_1', 'RES_2',\n",
       "                                                   'RES_3', 'RES_4', 'FOOBE_1',\n",
       "                                                   'FOOBE_3', 'FOOBE_4',\n",
       "                                                   'FOOBE_5', 'FOOBE_9',\n",
       "                                                   'NEP_1', 'NEP_2', 'NEP_3',\n",
       "                                                   'SN_1', 'SN_2', 'FAI_1',\n",
       "                                                   'FAI_2', 'SR_1', 'SR_2',\n",
       "                                                   'SC_1', 'AFC_1', 'AFC_2',\n",
       "                                                   'TH_1', 'TH_2', 'TH_3',\n",
       "                                                   'COPK_1', 'COPK_2', ...]),\n",
       "                                                 ('cat', OneHotEncoder(),\n",
       "                                                  ['AGE', 'GEN', 'DIS', 'EDU',\n",
       "                                                   'CWS', 'HHI'])])),\n",
       "                ('classifier', RandomForestClassifier(random_state=42))])"
      ]
     },
     "execution_count": 5,
     "metadata": {},
     "output_type": "execute_result"
    }
   ],
   "source": [
    "from sklearn.ensemble import RandomForestClassifier\n",
    "from sklearn.model_selection import train_test_split\n",
    "from sklearn.preprocessing import OneHotEncoder, StandardScaler\n",
    "from sklearn.compose import ColumnTransformer\n",
    "from sklearn.pipeline import Pipeline\n",
    "\n",
    "# Define categorical and numerical features\n",
    "categorical_features = ['AGE', 'GEN', 'DIS', 'EDU', 'CWS', 'HHI']  # Update this based on your specific dataset\n",
    "numerical_features = [col for col in data.columns if col not in categorical_features + ['C4']]  # All other columns except target\n",
    "\n",
    "# Create a column transformer for preprocessing\n",
    "preprocessor = ColumnTransformer(\n",
    "    transformers=[\n",
    "        ('num', StandardScaler(), numerical_features),\n",
    "        ('cat', OneHotEncoder(), categorical_features)\n",
    "    ])\n",
    "\n",
    "# Create a pipeline with preprocessing and classifier\n",
    "rf_pipeline = Pipeline(steps=[('preprocessor', preprocessor),\n",
    "                              ('classifier', RandomForestClassifier(random_state=42))])\n",
    "\n",
    "# Split the data into training and testing sets\n",
    "X = data.drop('C4', axis=1)\n",
    "y = data['C4']\n",
    "X_train, X_test, y_train, y_test = train_test_split(X, y, test_size=0.3, random_state=42)\n",
    "\n",
    "# Train the model\n",
    "rf_pipeline.fit(X_train, y_train)\n",
    "\n",
    "# You can later add code here to make predictions and evaluate the model"
   ]
  },
  {
   "cell_type": "code",
   "execution_count": 6,
   "id": "dd77c7e3",
   "metadata": {},
   "outputs": [
    {
     "data": {
      "text/html": [
       "<style>#sk-container-id-2 {color: black;}#sk-container-id-2 pre{padding: 0;}#sk-container-id-2 div.sk-toggleable {background-color: white;}#sk-container-id-2 label.sk-toggleable__label {cursor: pointer;display: block;width: 100%;margin-bottom: 0;padding: 0.3em;box-sizing: border-box;text-align: center;}#sk-container-id-2 label.sk-toggleable__label-arrow:before {content: \"▸\";float: left;margin-right: 0.25em;color: #696969;}#sk-container-id-2 label.sk-toggleable__label-arrow:hover:before {color: black;}#sk-container-id-2 div.sk-estimator:hover label.sk-toggleable__label-arrow:before {color: black;}#sk-container-id-2 div.sk-toggleable__content {max-height: 0;max-width: 0;overflow: hidden;text-align: left;background-color: #f0f8ff;}#sk-container-id-2 div.sk-toggleable__content pre {margin: 0.2em;color: black;border-radius: 0.25em;background-color: #f0f8ff;}#sk-container-id-2 input.sk-toggleable__control:checked~div.sk-toggleable__content {max-height: 200px;max-width: 100%;overflow: auto;}#sk-container-id-2 input.sk-toggleable__control:checked~label.sk-toggleable__label-arrow:before {content: \"▾\";}#sk-container-id-2 div.sk-estimator input.sk-toggleable__control:checked~label.sk-toggleable__label {background-color: #d4ebff;}#sk-container-id-2 div.sk-label input.sk-toggleable__control:checked~label.sk-toggleable__label {background-color: #d4ebff;}#sk-container-id-2 input.sk-hidden--visually {border: 0;clip: rect(1px 1px 1px 1px);clip: rect(1px, 1px, 1px, 1px);height: 1px;margin: -1px;overflow: hidden;padding: 0;position: absolute;width: 1px;}#sk-container-id-2 div.sk-estimator {font-family: monospace;background-color: #f0f8ff;border: 1px dotted black;border-radius: 0.25em;box-sizing: border-box;margin-bottom: 0.5em;}#sk-container-id-2 div.sk-estimator:hover {background-color: #d4ebff;}#sk-container-id-2 div.sk-parallel-item::after {content: \"\";width: 100%;border-bottom: 1px solid gray;flex-grow: 1;}#sk-container-id-2 div.sk-label:hover label.sk-toggleable__label {background-color: #d4ebff;}#sk-container-id-2 div.sk-serial::before {content: \"\";position: absolute;border-left: 1px solid gray;box-sizing: border-box;top: 0;bottom: 0;left: 50%;z-index: 0;}#sk-container-id-2 div.sk-serial {display: flex;flex-direction: column;align-items: center;background-color: white;padding-right: 0.2em;padding-left: 0.2em;position: relative;}#sk-container-id-2 div.sk-item {position: relative;z-index: 1;}#sk-container-id-2 div.sk-parallel {display: flex;align-items: stretch;justify-content: center;background-color: white;position: relative;}#sk-container-id-2 div.sk-item::before, #sk-container-id-2 div.sk-parallel-item::before {content: \"\";position: absolute;border-left: 1px solid gray;box-sizing: border-box;top: 0;bottom: 0;left: 50%;z-index: -1;}#sk-container-id-2 div.sk-parallel-item {display: flex;flex-direction: column;z-index: 1;position: relative;background-color: white;}#sk-container-id-2 div.sk-parallel-item:first-child::after {align-self: flex-end;width: 50%;}#sk-container-id-2 div.sk-parallel-item:last-child::after {align-self: flex-start;width: 50%;}#sk-container-id-2 div.sk-parallel-item:only-child::after {width: 0;}#sk-container-id-2 div.sk-dashed-wrapped {border: 1px dashed gray;margin: 0 0.4em 0.5em 0.4em;box-sizing: border-box;padding-bottom: 0.4em;background-color: white;}#sk-container-id-2 div.sk-label label {font-family: monospace;font-weight: bold;display: inline-block;line-height: 1.2em;}#sk-container-id-2 div.sk-label-container {text-align: center;}#sk-container-id-2 div.sk-container {/* jupyter's `normalize.less` sets `[hidden] { display: none; }` but bootstrap.min.css set `[hidden] { display: none !important; }` so we also need the `!important` here to be able to override the default hidden behavior on the sphinx rendered scikit-learn.org. See: https://github.com/scikit-learn/scikit-learn/issues/21755 */display: inline-block !important;position: relative;}#sk-container-id-2 div.sk-text-repr-fallback {display: none;}</style><div id=\"sk-container-id-2\" class=\"sk-top-container\"><div class=\"sk-text-repr-fallback\"><pre>Pipeline(steps=[(&#x27;preprocessor&#x27;,\n",
       "                 ColumnTransformer(transformers=[(&#x27;num&#x27;, StandardScaler(),\n",
       "                                                  [&#x27;EXP_1&#x27;, &#x27;EXP_2&#x27;, &#x27;IMP_1&#x27;,\n",
       "                                                   &#x27;IMP_2&#x27;, &#x27;RES_1&#x27;, &#x27;RES_2&#x27;,\n",
       "                                                   &#x27;RES_3&#x27;, &#x27;RES_4&#x27;, &#x27;FOOBE_1&#x27;,\n",
       "                                                   &#x27;FOOBE_3&#x27;, &#x27;FOOBE_4&#x27;,\n",
       "                                                   &#x27;FOOBE_5&#x27;, &#x27;FOOBE_9&#x27;,\n",
       "                                                   &#x27;NEP_1&#x27;, &#x27;NEP_2&#x27;, &#x27;NEP_3&#x27;,\n",
       "                                                   &#x27;SN_1&#x27;, &#x27;SN_2&#x27;, &#x27;FAI_1&#x27;,\n",
       "                                                   &#x27;FAI_2&#x27;, &#x27;SR_1&#x27;, &#x27;SR_2&#x27;,\n",
       "                                                   &#x27;SC_1&#x27;, &#x27;AFC_1&#x27;, &#x27;AFC_2&#x27;,\n",
       "                                                   &#x27;TH_1&#x27;, &#x27;TH_2&#x27;, &#x27;TH_3&#x27;,\n",
       "                                                   &#x27;COPK_1&#x27;, &#x27;COPK_2&#x27;, ...]),\n",
       "                                                 (&#x27;cat&#x27;, OneHotEncoder(),\n",
       "                                                  [&#x27;AGE&#x27;, &#x27;GEN&#x27;, &#x27;DIS&#x27;, &#x27;EDU&#x27;,\n",
       "                                                   &#x27;CWS&#x27;, &#x27;HHI&#x27;])])),\n",
       "                (&#x27;classifier&#x27;, RandomForestClassifier(random_state=42))])</pre><b>In a Jupyter environment, please rerun this cell to show the HTML representation or trust the notebook. <br />On GitHub, the HTML representation is unable to render, please try loading this page with nbviewer.org.</b></div><div class=\"sk-container\" hidden><div class=\"sk-item sk-dashed-wrapped\"><div class=\"sk-label-container\"><div class=\"sk-label sk-toggleable\"><input class=\"sk-toggleable__control sk-hidden--visually\" id=\"sk-estimator-id-8\" type=\"checkbox\" ><label for=\"sk-estimator-id-8\" class=\"sk-toggleable__label sk-toggleable__label-arrow\">Pipeline</label><div class=\"sk-toggleable__content\"><pre>Pipeline(steps=[(&#x27;preprocessor&#x27;,\n",
       "                 ColumnTransformer(transformers=[(&#x27;num&#x27;, StandardScaler(),\n",
       "                                                  [&#x27;EXP_1&#x27;, &#x27;EXP_2&#x27;, &#x27;IMP_1&#x27;,\n",
       "                                                   &#x27;IMP_2&#x27;, &#x27;RES_1&#x27;, &#x27;RES_2&#x27;,\n",
       "                                                   &#x27;RES_3&#x27;, &#x27;RES_4&#x27;, &#x27;FOOBE_1&#x27;,\n",
       "                                                   &#x27;FOOBE_3&#x27;, &#x27;FOOBE_4&#x27;,\n",
       "                                                   &#x27;FOOBE_5&#x27;, &#x27;FOOBE_9&#x27;,\n",
       "                                                   &#x27;NEP_1&#x27;, &#x27;NEP_2&#x27;, &#x27;NEP_3&#x27;,\n",
       "                                                   &#x27;SN_1&#x27;, &#x27;SN_2&#x27;, &#x27;FAI_1&#x27;,\n",
       "                                                   &#x27;FAI_2&#x27;, &#x27;SR_1&#x27;, &#x27;SR_2&#x27;,\n",
       "                                                   &#x27;SC_1&#x27;, &#x27;AFC_1&#x27;, &#x27;AFC_2&#x27;,\n",
       "                                                   &#x27;TH_1&#x27;, &#x27;TH_2&#x27;, &#x27;TH_3&#x27;,\n",
       "                                                   &#x27;COPK_1&#x27;, &#x27;COPK_2&#x27;, ...]),\n",
       "                                                 (&#x27;cat&#x27;, OneHotEncoder(),\n",
       "                                                  [&#x27;AGE&#x27;, &#x27;GEN&#x27;, &#x27;DIS&#x27;, &#x27;EDU&#x27;,\n",
       "                                                   &#x27;CWS&#x27;, &#x27;HHI&#x27;])])),\n",
       "                (&#x27;classifier&#x27;, RandomForestClassifier(random_state=42))])</pre></div></div></div><div class=\"sk-serial\"><div class=\"sk-item sk-dashed-wrapped\"><div class=\"sk-label-container\"><div class=\"sk-label sk-toggleable\"><input class=\"sk-toggleable__control sk-hidden--visually\" id=\"sk-estimator-id-9\" type=\"checkbox\" ><label for=\"sk-estimator-id-9\" class=\"sk-toggleable__label sk-toggleable__label-arrow\">preprocessor: ColumnTransformer</label><div class=\"sk-toggleable__content\"><pre>ColumnTransformer(transformers=[(&#x27;num&#x27;, StandardScaler(),\n",
       "                                 [&#x27;EXP_1&#x27;, &#x27;EXP_2&#x27;, &#x27;IMP_1&#x27;, &#x27;IMP_2&#x27;, &#x27;RES_1&#x27;,\n",
       "                                  &#x27;RES_2&#x27;, &#x27;RES_3&#x27;, &#x27;RES_4&#x27;, &#x27;FOOBE_1&#x27;,\n",
       "                                  &#x27;FOOBE_3&#x27;, &#x27;FOOBE_4&#x27;, &#x27;FOOBE_5&#x27;, &#x27;FOOBE_9&#x27;,\n",
       "                                  &#x27;NEP_1&#x27;, &#x27;NEP_2&#x27;, &#x27;NEP_3&#x27;, &#x27;SN_1&#x27;, &#x27;SN_2&#x27;,\n",
       "                                  &#x27;FAI_1&#x27;, &#x27;FAI_2&#x27;, &#x27;SR_1&#x27;, &#x27;SR_2&#x27;, &#x27;SC_1&#x27;,\n",
       "                                  &#x27;AFC_1&#x27;, &#x27;AFC_2&#x27;, &#x27;TH_1&#x27;, &#x27;TH_2&#x27;, &#x27;TH_3&#x27;,\n",
       "                                  &#x27;COPK_1&#x27;, &#x27;COPK_2&#x27;, ...]),\n",
       "                                (&#x27;cat&#x27;, OneHotEncoder(),\n",
       "                                 [&#x27;AGE&#x27;, &#x27;GEN&#x27;, &#x27;DIS&#x27;, &#x27;EDU&#x27;, &#x27;CWS&#x27;, &#x27;HHI&#x27;])])</pre></div></div></div><div class=\"sk-parallel\"><div class=\"sk-parallel-item\"><div class=\"sk-item\"><div class=\"sk-label-container\"><div class=\"sk-label sk-toggleable\"><input class=\"sk-toggleable__control sk-hidden--visually\" id=\"sk-estimator-id-10\" type=\"checkbox\" ><label for=\"sk-estimator-id-10\" class=\"sk-toggleable__label sk-toggleable__label-arrow\">num</label><div class=\"sk-toggleable__content\"><pre>[&#x27;EXP_1&#x27;, &#x27;EXP_2&#x27;, &#x27;IMP_1&#x27;, &#x27;IMP_2&#x27;, &#x27;RES_1&#x27;, &#x27;RES_2&#x27;, &#x27;RES_3&#x27;, &#x27;RES_4&#x27;, &#x27;FOOBE_1&#x27;, &#x27;FOOBE_3&#x27;, &#x27;FOOBE_4&#x27;, &#x27;FOOBE_5&#x27;, &#x27;FOOBE_9&#x27;, &#x27;NEP_1&#x27;, &#x27;NEP_2&#x27;, &#x27;NEP_3&#x27;, &#x27;SN_1&#x27;, &#x27;SN_2&#x27;, &#x27;FAI_1&#x27;, &#x27;FAI_2&#x27;, &#x27;SR_1&#x27;, &#x27;SR_2&#x27;, &#x27;SC_1&#x27;, &#x27;AFC_1&#x27;, &#x27;AFC_2&#x27;, &#x27;TH_1&#x27;, &#x27;TH_2&#x27;, &#x27;TH_3&#x27;, &#x27;COPK_1&#x27;, &#x27;COPK_2&#x27;, &#x27;COPK_3&#x27;, &#x27;CLK_1&#x27;, &#x27;CLK_2&#x27;, &#x27;CLK_3&#x27;, &#x27;INF_1&#x27;, &#x27;INF_2&#x27;, &#x27;INF_3&#x27;, &#x27;INF_4&#x27;]</pre></div></div></div><div class=\"sk-serial\"><div class=\"sk-item\"><div class=\"sk-estimator sk-toggleable\"><input class=\"sk-toggleable__control sk-hidden--visually\" id=\"sk-estimator-id-11\" type=\"checkbox\" ><label for=\"sk-estimator-id-11\" class=\"sk-toggleable__label sk-toggleable__label-arrow\">StandardScaler</label><div class=\"sk-toggleable__content\"><pre>StandardScaler()</pre></div></div></div></div></div></div><div class=\"sk-parallel-item\"><div class=\"sk-item\"><div class=\"sk-label-container\"><div class=\"sk-label sk-toggleable\"><input class=\"sk-toggleable__control sk-hidden--visually\" id=\"sk-estimator-id-12\" type=\"checkbox\" ><label for=\"sk-estimator-id-12\" class=\"sk-toggleable__label sk-toggleable__label-arrow\">cat</label><div class=\"sk-toggleable__content\"><pre>[&#x27;AGE&#x27;, &#x27;GEN&#x27;, &#x27;DIS&#x27;, &#x27;EDU&#x27;, &#x27;CWS&#x27;, &#x27;HHI&#x27;]</pre></div></div></div><div class=\"sk-serial\"><div class=\"sk-item\"><div class=\"sk-estimator sk-toggleable\"><input class=\"sk-toggleable__control sk-hidden--visually\" id=\"sk-estimator-id-13\" type=\"checkbox\" ><label for=\"sk-estimator-id-13\" class=\"sk-toggleable__label sk-toggleable__label-arrow\">OneHotEncoder</label><div class=\"sk-toggleable__content\"><pre>OneHotEncoder()</pre></div></div></div></div></div></div></div></div><div class=\"sk-item\"><div class=\"sk-estimator sk-toggleable\"><input class=\"sk-toggleable__control sk-hidden--visually\" id=\"sk-estimator-id-14\" type=\"checkbox\" ><label for=\"sk-estimator-id-14\" class=\"sk-toggleable__label sk-toggleable__label-arrow\">RandomForestClassifier</label><div class=\"sk-toggleable__content\"><pre>RandomForestClassifier(random_state=42)</pre></div></div></div></div></div></div></div>"
      ],
      "text/plain": [
       "Pipeline(steps=[('preprocessor',\n",
       "                 ColumnTransformer(transformers=[('num', StandardScaler(),\n",
       "                                                  ['EXP_1', 'EXP_2', 'IMP_1',\n",
       "                                                   'IMP_2', 'RES_1', 'RES_2',\n",
       "                                                   'RES_3', 'RES_4', 'FOOBE_1',\n",
       "                                                   'FOOBE_3', 'FOOBE_4',\n",
       "                                                   'FOOBE_5', 'FOOBE_9',\n",
       "                                                   'NEP_1', 'NEP_2', 'NEP_3',\n",
       "                                                   'SN_1', 'SN_2', 'FAI_1',\n",
       "                                                   'FAI_2', 'SR_1', 'SR_2',\n",
       "                                                   'SC_1', 'AFC_1', 'AFC_2',\n",
       "                                                   'TH_1', 'TH_2', 'TH_3',\n",
       "                                                   'COPK_1', 'COPK_2', ...]),\n",
       "                                                 ('cat', OneHotEncoder(),\n",
       "                                                  ['AGE', 'GEN', 'DIS', 'EDU',\n",
       "                                                   'CWS', 'HHI'])])),\n",
       "                ('classifier', RandomForestClassifier(random_state=42))])"
      ]
     },
     "execution_count": 6,
     "metadata": {},
     "output_type": "execute_result"
    }
   ],
   "source": [
    "rf_pipeline.fit(X_train, y_train)"
   ]
  },
  {
   "cell_type": "code",
   "execution_count": 7,
   "id": "339b4a58",
   "metadata": {},
   "outputs": [],
   "source": [
    "# Making predictions on the test set\n",
    "y_pred = rf_pipeline.predict(X_test)"
   ]
  },
  {
   "cell_type": "code",
   "execution_count": 8,
   "id": "63e548f4",
   "metadata": {},
   "outputs": [
    {
     "name": "stdout",
     "output_type": "stream",
     "text": [
      "              precision    recall  f1-score   support\n",
      "\n",
      "           1       0.54      0.85      0.66       161\n",
      "           2       0.67      0.04      0.07        54\n",
      "           3       0.40      0.23      0.29       100\n",
      "\n",
      "    accuracy                           0.51       315\n",
      "   macro avg       0.54      0.37      0.34       315\n",
      "weighted avg       0.52      0.51      0.44       315\n",
      "\n",
      "[[137   0  24]\n",
      " [ 42   2  10]\n",
      " [ 76   1  23]]\n"
     ]
    }
   ],
   "source": [
    "from sklearn.metrics import classification_report, confusion_matrix\n",
    "\n",
    "# Print classification report\n",
    "print(classification_report(y_test, y_pred))\n",
    "\n",
    "# Print confusion matrix\n",
    "print(confusion_matrix(y_test, y_pred))"
   ]
  },
  {
   "cell_type": "code",
   "execution_count": 9,
   "id": "27a74187",
   "metadata": {},
   "outputs": [
    {
     "data": {
      "text/html": [
       "<style>#sk-container-id-3 {color: black;}#sk-container-id-3 pre{padding: 0;}#sk-container-id-3 div.sk-toggleable {background-color: white;}#sk-container-id-3 label.sk-toggleable__label {cursor: pointer;display: block;width: 100%;margin-bottom: 0;padding: 0.3em;box-sizing: border-box;text-align: center;}#sk-container-id-3 label.sk-toggleable__label-arrow:before {content: \"▸\";float: left;margin-right: 0.25em;color: #696969;}#sk-container-id-3 label.sk-toggleable__label-arrow:hover:before {color: black;}#sk-container-id-3 div.sk-estimator:hover label.sk-toggleable__label-arrow:before {color: black;}#sk-container-id-3 div.sk-toggleable__content {max-height: 0;max-width: 0;overflow: hidden;text-align: left;background-color: #f0f8ff;}#sk-container-id-3 div.sk-toggleable__content pre {margin: 0.2em;color: black;border-radius: 0.25em;background-color: #f0f8ff;}#sk-container-id-3 input.sk-toggleable__control:checked~div.sk-toggleable__content {max-height: 200px;max-width: 100%;overflow: auto;}#sk-container-id-3 input.sk-toggleable__control:checked~label.sk-toggleable__label-arrow:before {content: \"▾\";}#sk-container-id-3 div.sk-estimator input.sk-toggleable__control:checked~label.sk-toggleable__label {background-color: #d4ebff;}#sk-container-id-3 div.sk-label input.sk-toggleable__control:checked~label.sk-toggleable__label {background-color: #d4ebff;}#sk-container-id-3 input.sk-hidden--visually {border: 0;clip: rect(1px 1px 1px 1px);clip: rect(1px, 1px, 1px, 1px);height: 1px;margin: -1px;overflow: hidden;padding: 0;position: absolute;width: 1px;}#sk-container-id-3 div.sk-estimator {font-family: monospace;background-color: #f0f8ff;border: 1px dotted black;border-radius: 0.25em;box-sizing: border-box;margin-bottom: 0.5em;}#sk-container-id-3 div.sk-estimator:hover {background-color: #d4ebff;}#sk-container-id-3 div.sk-parallel-item::after {content: \"\";width: 100%;border-bottom: 1px solid gray;flex-grow: 1;}#sk-container-id-3 div.sk-label:hover label.sk-toggleable__label {background-color: #d4ebff;}#sk-container-id-3 div.sk-serial::before {content: \"\";position: absolute;border-left: 1px solid gray;box-sizing: border-box;top: 0;bottom: 0;left: 50%;z-index: 0;}#sk-container-id-3 div.sk-serial {display: flex;flex-direction: column;align-items: center;background-color: white;padding-right: 0.2em;padding-left: 0.2em;position: relative;}#sk-container-id-3 div.sk-item {position: relative;z-index: 1;}#sk-container-id-3 div.sk-parallel {display: flex;align-items: stretch;justify-content: center;background-color: white;position: relative;}#sk-container-id-3 div.sk-item::before, #sk-container-id-3 div.sk-parallel-item::before {content: \"\";position: absolute;border-left: 1px solid gray;box-sizing: border-box;top: 0;bottom: 0;left: 50%;z-index: -1;}#sk-container-id-3 div.sk-parallel-item {display: flex;flex-direction: column;z-index: 1;position: relative;background-color: white;}#sk-container-id-3 div.sk-parallel-item:first-child::after {align-self: flex-end;width: 50%;}#sk-container-id-3 div.sk-parallel-item:last-child::after {align-self: flex-start;width: 50%;}#sk-container-id-3 div.sk-parallel-item:only-child::after {width: 0;}#sk-container-id-3 div.sk-dashed-wrapped {border: 1px dashed gray;margin: 0 0.4em 0.5em 0.4em;box-sizing: border-box;padding-bottom: 0.4em;background-color: white;}#sk-container-id-3 div.sk-label label {font-family: monospace;font-weight: bold;display: inline-block;line-height: 1.2em;}#sk-container-id-3 div.sk-label-container {text-align: center;}#sk-container-id-3 div.sk-container {/* jupyter's `normalize.less` sets `[hidden] { display: none; }` but bootstrap.min.css set `[hidden] { display: none !important; }` so we also need the `!important` here to be able to override the default hidden behavior on the sphinx rendered scikit-learn.org. See: https://github.com/scikit-learn/scikit-learn/issues/21755 */display: inline-block !important;position: relative;}#sk-container-id-3 div.sk-text-repr-fallback {display: none;}</style><div id=\"sk-container-id-3\" class=\"sk-top-container\"><div class=\"sk-text-repr-fallback\"><pre>Pipeline(steps=[(&#x27;preprocessor&#x27;,\n",
       "                 ColumnTransformer(transformers=[(&#x27;num&#x27;, StandardScaler(),\n",
       "                                                  [&#x27;EXP_1&#x27;, &#x27;EXP_2&#x27;, &#x27;IMP_1&#x27;,\n",
       "                                                   &#x27;IMP_2&#x27;, &#x27;RES_1&#x27;, &#x27;RES_2&#x27;,\n",
       "                                                   &#x27;RES_3&#x27;, &#x27;RES_4&#x27;, &#x27;FOOBE_1&#x27;,\n",
       "                                                   &#x27;FOOBE_3&#x27;, &#x27;FOOBE_4&#x27;,\n",
       "                                                   &#x27;FOOBE_5&#x27;, &#x27;FOOBE_9&#x27;,\n",
       "                                                   &#x27;NEP_1&#x27;, &#x27;NEP_2&#x27;, &#x27;NEP_3&#x27;,\n",
       "                                                   &#x27;SN_1&#x27;, &#x27;SN_2&#x27;, &#x27;FAI_1&#x27;,\n",
       "                                                   &#x27;FAI_2&#x27;, &#x27;SR_1&#x27;, &#x27;SR_2&#x27;,\n",
       "                                                   &#x27;SC_1&#x27;, &#x27;AFC_1&#x27;, &#x27;AFC_2&#x27;,\n",
       "                                                   &#x27;TH_1&#x27;, &#x27;TH_2&#x27;, &#x27;TH_3&#x27;,\n",
       "                                                   &#x27;COPK_1&#x27;, &#x27;COPK_2&#x27;, ...]),\n",
       "                                                 (&#x27;cat&#x27;, OneHotEncoder(),\n",
       "                                                  [&#x27;AGE&#x27;, &#x27;GEN&#x27;, &#x27;DIS&#x27;, &#x27;EDU&#x27;,\n",
       "                                                   &#x27;CWS&#x27;, &#x27;HHI&#x27;])])),\n",
       "                (&#x27;classifier&#x27;,\n",
       "                 RandomForestClassifier(class_weight={1: 1, 2: 2, 3: 2},\n",
       "                                        random_state=42))])</pre><b>In a Jupyter environment, please rerun this cell to show the HTML representation or trust the notebook. <br />On GitHub, the HTML representation is unable to render, please try loading this page with nbviewer.org.</b></div><div class=\"sk-container\" hidden><div class=\"sk-item sk-dashed-wrapped\"><div class=\"sk-label-container\"><div class=\"sk-label sk-toggleable\"><input class=\"sk-toggleable__control sk-hidden--visually\" id=\"sk-estimator-id-15\" type=\"checkbox\" ><label for=\"sk-estimator-id-15\" class=\"sk-toggleable__label sk-toggleable__label-arrow\">Pipeline</label><div class=\"sk-toggleable__content\"><pre>Pipeline(steps=[(&#x27;preprocessor&#x27;,\n",
       "                 ColumnTransformer(transformers=[(&#x27;num&#x27;, StandardScaler(),\n",
       "                                                  [&#x27;EXP_1&#x27;, &#x27;EXP_2&#x27;, &#x27;IMP_1&#x27;,\n",
       "                                                   &#x27;IMP_2&#x27;, &#x27;RES_1&#x27;, &#x27;RES_2&#x27;,\n",
       "                                                   &#x27;RES_3&#x27;, &#x27;RES_4&#x27;, &#x27;FOOBE_1&#x27;,\n",
       "                                                   &#x27;FOOBE_3&#x27;, &#x27;FOOBE_4&#x27;,\n",
       "                                                   &#x27;FOOBE_5&#x27;, &#x27;FOOBE_9&#x27;,\n",
       "                                                   &#x27;NEP_1&#x27;, &#x27;NEP_2&#x27;, &#x27;NEP_3&#x27;,\n",
       "                                                   &#x27;SN_1&#x27;, &#x27;SN_2&#x27;, &#x27;FAI_1&#x27;,\n",
       "                                                   &#x27;FAI_2&#x27;, &#x27;SR_1&#x27;, &#x27;SR_2&#x27;,\n",
       "                                                   &#x27;SC_1&#x27;, &#x27;AFC_1&#x27;, &#x27;AFC_2&#x27;,\n",
       "                                                   &#x27;TH_1&#x27;, &#x27;TH_2&#x27;, &#x27;TH_3&#x27;,\n",
       "                                                   &#x27;COPK_1&#x27;, &#x27;COPK_2&#x27;, ...]),\n",
       "                                                 (&#x27;cat&#x27;, OneHotEncoder(),\n",
       "                                                  [&#x27;AGE&#x27;, &#x27;GEN&#x27;, &#x27;DIS&#x27;, &#x27;EDU&#x27;,\n",
       "                                                   &#x27;CWS&#x27;, &#x27;HHI&#x27;])])),\n",
       "                (&#x27;classifier&#x27;,\n",
       "                 RandomForestClassifier(class_weight={1: 1, 2: 2, 3: 2},\n",
       "                                        random_state=42))])</pre></div></div></div><div class=\"sk-serial\"><div class=\"sk-item sk-dashed-wrapped\"><div class=\"sk-label-container\"><div class=\"sk-label sk-toggleable\"><input class=\"sk-toggleable__control sk-hidden--visually\" id=\"sk-estimator-id-16\" type=\"checkbox\" ><label for=\"sk-estimator-id-16\" class=\"sk-toggleable__label sk-toggleable__label-arrow\">preprocessor: ColumnTransformer</label><div class=\"sk-toggleable__content\"><pre>ColumnTransformer(transformers=[(&#x27;num&#x27;, StandardScaler(),\n",
       "                                 [&#x27;EXP_1&#x27;, &#x27;EXP_2&#x27;, &#x27;IMP_1&#x27;, &#x27;IMP_2&#x27;, &#x27;RES_1&#x27;,\n",
       "                                  &#x27;RES_2&#x27;, &#x27;RES_3&#x27;, &#x27;RES_4&#x27;, &#x27;FOOBE_1&#x27;,\n",
       "                                  &#x27;FOOBE_3&#x27;, &#x27;FOOBE_4&#x27;, &#x27;FOOBE_5&#x27;, &#x27;FOOBE_9&#x27;,\n",
       "                                  &#x27;NEP_1&#x27;, &#x27;NEP_2&#x27;, &#x27;NEP_3&#x27;, &#x27;SN_1&#x27;, &#x27;SN_2&#x27;,\n",
       "                                  &#x27;FAI_1&#x27;, &#x27;FAI_2&#x27;, &#x27;SR_1&#x27;, &#x27;SR_2&#x27;, &#x27;SC_1&#x27;,\n",
       "                                  &#x27;AFC_1&#x27;, &#x27;AFC_2&#x27;, &#x27;TH_1&#x27;, &#x27;TH_2&#x27;, &#x27;TH_3&#x27;,\n",
       "                                  &#x27;COPK_1&#x27;, &#x27;COPK_2&#x27;, ...]),\n",
       "                                (&#x27;cat&#x27;, OneHotEncoder(),\n",
       "                                 [&#x27;AGE&#x27;, &#x27;GEN&#x27;, &#x27;DIS&#x27;, &#x27;EDU&#x27;, &#x27;CWS&#x27;, &#x27;HHI&#x27;])])</pre></div></div></div><div class=\"sk-parallel\"><div class=\"sk-parallel-item\"><div class=\"sk-item\"><div class=\"sk-label-container\"><div class=\"sk-label sk-toggleable\"><input class=\"sk-toggleable__control sk-hidden--visually\" id=\"sk-estimator-id-17\" type=\"checkbox\" ><label for=\"sk-estimator-id-17\" class=\"sk-toggleable__label sk-toggleable__label-arrow\">num</label><div class=\"sk-toggleable__content\"><pre>[&#x27;EXP_1&#x27;, &#x27;EXP_2&#x27;, &#x27;IMP_1&#x27;, &#x27;IMP_2&#x27;, &#x27;RES_1&#x27;, &#x27;RES_2&#x27;, &#x27;RES_3&#x27;, &#x27;RES_4&#x27;, &#x27;FOOBE_1&#x27;, &#x27;FOOBE_3&#x27;, &#x27;FOOBE_4&#x27;, &#x27;FOOBE_5&#x27;, &#x27;FOOBE_9&#x27;, &#x27;NEP_1&#x27;, &#x27;NEP_2&#x27;, &#x27;NEP_3&#x27;, &#x27;SN_1&#x27;, &#x27;SN_2&#x27;, &#x27;FAI_1&#x27;, &#x27;FAI_2&#x27;, &#x27;SR_1&#x27;, &#x27;SR_2&#x27;, &#x27;SC_1&#x27;, &#x27;AFC_1&#x27;, &#x27;AFC_2&#x27;, &#x27;TH_1&#x27;, &#x27;TH_2&#x27;, &#x27;TH_3&#x27;, &#x27;COPK_1&#x27;, &#x27;COPK_2&#x27;, &#x27;COPK_3&#x27;, &#x27;CLK_1&#x27;, &#x27;CLK_2&#x27;, &#x27;CLK_3&#x27;, &#x27;INF_1&#x27;, &#x27;INF_2&#x27;, &#x27;INF_3&#x27;, &#x27;INF_4&#x27;]</pre></div></div></div><div class=\"sk-serial\"><div class=\"sk-item\"><div class=\"sk-estimator sk-toggleable\"><input class=\"sk-toggleable__control sk-hidden--visually\" id=\"sk-estimator-id-18\" type=\"checkbox\" ><label for=\"sk-estimator-id-18\" class=\"sk-toggleable__label sk-toggleable__label-arrow\">StandardScaler</label><div class=\"sk-toggleable__content\"><pre>StandardScaler()</pre></div></div></div></div></div></div><div class=\"sk-parallel-item\"><div class=\"sk-item\"><div class=\"sk-label-container\"><div class=\"sk-label sk-toggleable\"><input class=\"sk-toggleable__control sk-hidden--visually\" id=\"sk-estimator-id-19\" type=\"checkbox\" ><label for=\"sk-estimator-id-19\" class=\"sk-toggleable__label sk-toggleable__label-arrow\">cat</label><div class=\"sk-toggleable__content\"><pre>[&#x27;AGE&#x27;, &#x27;GEN&#x27;, &#x27;DIS&#x27;, &#x27;EDU&#x27;, &#x27;CWS&#x27;, &#x27;HHI&#x27;]</pre></div></div></div><div class=\"sk-serial\"><div class=\"sk-item\"><div class=\"sk-estimator sk-toggleable\"><input class=\"sk-toggleable__control sk-hidden--visually\" id=\"sk-estimator-id-20\" type=\"checkbox\" ><label for=\"sk-estimator-id-20\" class=\"sk-toggleable__label sk-toggleable__label-arrow\">OneHotEncoder</label><div class=\"sk-toggleable__content\"><pre>OneHotEncoder()</pre></div></div></div></div></div></div></div></div><div class=\"sk-item\"><div class=\"sk-estimator sk-toggleable\"><input class=\"sk-toggleable__control sk-hidden--visually\" id=\"sk-estimator-id-21\" type=\"checkbox\" ><label for=\"sk-estimator-id-21\" class=\"sk-toggleable__label sk-toggleable__label-arrow\">RandomForestClassifier</label><div class=\"sk-toggleable__content\"><pre>RandomForestClassifier(class_weight={1: 1, 2: 2, 3: 2}, random_state=42)</pre></div></div></div></div></div></div></div>"
      ],
      "text/plain": [
       "Pipeline(steps=[('preprocessor',\n",
       "                 ColumnTransformer(transformers=[('num', StandardScaler(),\n",
       "                                                  ['EXP_1', 'EXP_2', 'IMP_1',\n",
       "                                                   'IMP_2', 'RES_1', 'RES_2',\n",
       "                                                   'RES_3', 'RES_4', 'FOOBE_1',\n",
       "                                                   'FOOBE_3', 'FOOBE_4',\n",
       "                                                   'FOOBE_5', 'FOOBE_9',\n",
       "                                                   'NEP_1', 'NEP_2', 'NEP_3',\n",
       "                                                   'SN_1', 'SN_2', 'FAI_1',\n",
       "                                                   'FAI_2', 'SR_1', 'SR_2',\n",
       "                                                   'SC_1', 'AFC_1', 'AFC_2',\n",
       "                                                   'TH_1', 'TH_2', 'TH_3',\n",
       "                                                   'COPK_1', 'COPK_2', ...]),\n",
       "                                                 ('cat', OneHotEncoder(),\n",
       "                                                  ['AGE', 'GEN', 'DIS', 'EDU',\n",
       "                                                   'CWS', 'HHI'])])),\n",
       "                ('classifier',\n",
       "                 RandomForestClassifier(class_weight={1: 1, 2: 2, 3: 2},\n",
       "                                        random_state=42))])"
      ]
     },
     "execution_count": 9,
     "metadata": {},
     "output_type": "execute_result"
    }
   ],
   "source": [
    "# Adjust class weights\n",
    "class_weights = {1: 1, 2: 2, 3: 2}  # These weights can be adjusted based on the class distribution\n",
    "\n",
    "# Update the classifier in the pipeline\n",
    "rf_pipeline.set_params(classifier__class_weight=class_weights)\n",
    "\n",
    "#"
   ]
  },
  {
   "cell_type": "code",
   "execution_count": 10,
   "id": "b73d223f",
   "metadata": {},
   "outputs": [
    {
     "name": "stdout",
     "output_type": "stream",
     "text": [
      "              precision    recall  f1-score   support\n",
      "\n",
      "           1       0.55      0.83      0.66       161\n",
      "           2       0.50      0.04      0.07        54\n",
      "           3       0.44      0.29      0.35       100\n",
      "\n",
      "    accuracy                           0.52       315\n",
      "   macro avg       0.50      0.39      0.36       315\n",
      "weighted avg       0.50      0.52      0.46       315\n",
      "\n",
      "[[134   1  26]\n",
      " [ 41   2  11]\n",
      " [ 70   1  29]]\n"
     ]
    }
   ],
   "source": [
    "# Retrain the model with the updated class weights\n",
    "rf_pipeline.fit(X_train, y_train)\n",
    "\n",
    "# Making predictions on the test set with the retrained model\n",
    "y_pred_adjusted = rf_pipeline.predict(X_test)\n",
    "\n",
    "# Evaluating the model performance with the adjusted class weights\n",
    "from sklearn.metrics import classification_report, confusion_matrix\n",
    "\n",
    "# Print classification report for the retrained model\n",
    "print(classification_report(y_test, y_pred_adjusted))\n",
    "\n",
    "# Print confusion matrix for the retrained model\n",
    "print(confusion_matrix(y_test, y_pred_adjusted))"
   ]
  },
  {
   "cell_type": "code",
   "execution_count": 11,
   "id": "f1779f28",
   "metadata": {},
   "outputs": [],
   "source": [
    "# Modify the target variable: Combine classes 2 and 3 into a single class\n",
    "y_modified = y.replace({3: 2})"
   ]
  },
  {
   "cell_type": "code",
   "execution_count": 12,
   "id": "dc7a390f",
   "metadata": {},
   "outputs": [],
   "source": [
    "# Split the data into training and testing sets with the modified target\n",
    "X_train, X_test, y_train_modified, y_test_modified = train_test_split(X, y_modified, test_size=0.3, random_state=42)"
   ]
  },
  {
   "cell_type": "code",
   "execution_count": 13,
   "id": "45ca1db5",
   "metadata": {},
   "outputs": [
    {
     "data": {
      "text/html": [
       "<style>#sk-container-id-4 {color: black;}#sk-container-id-4 pre{padding: 0;}#sk-container-id-4 div.sk-toggleable {background-color: white;}#sk-container-id-4 label.sk-toggleable__label {cursor: pointer;display: block;width: 100%;margin-bottom: 0;padding: 0.3em;box-sizing: border-box;text-align: center;}#sk-container-id-4 label.sk-toggleable__label-arrow:before {content: \"▸\";float: left;margin-right: 0.25em;color: #696969;}#sk-container-id-4 label.sk-toggleable__label-arrow:hover:before {color: black;}#sk-container-id-4 div.sk-estimator:hover label.sk-toggleable__label-arrow:before {color: black;}#sk-container-id-4 div.sk-toggleable__content {max-height: 0;max-width: 0;overflow: hidden;text-align: left;background-color: #f0f8ff;}#sk-container-id-4 div.sk-toggleable__content pre {margin: 0.2em;color: black;border-radius: 0.25em;background-color: #f0f8ff;}#sk-container-id-4 input.sk-toggleable__control:checked~div.sk-toggleable__content {max-height: 200px;max-width: 100%;overflow: auto;}#sk-container-id-4 input.sk-toggleable__control:checked~label.sk-toggleable__label-arrow:before {content: \"▾\";}#sk-container-id-4 div.sk-estimator input.sk-toggleable__control:checked~label.sk-toggleable__label {background-color: #d4ebff;}#sk-container-id-4 div.sk-label input.sk-toggleable__control:checked~label.sk-toggleable__label {background-color: #d4ebff;}#sk-container-id-4 input.sk-hidden--visually {border: 0;clip: rect(1px 1px 1px 1px);clip: rect(1px, 1px, 1px, 1px);height: 1px;margin: -1px;overflow: hidden;padding: 0;position: absolute;width: 1px;}#sk-container-id-4 div.sk-estimator {font-family: monospace;background-color: #f0f8ff;border: 1px dotted black;border-radius: 0.25em;box-sizing: border-box;margin-bottom: 0.5em;}#sk-container-id-4 div.sk-estimator:hover {background-color: #d4ebff;}#sk-container-id-4 div.sk-parallel-item::after {content: \"\";width: 100%;border-bottom: 1px solid gray;flex-grow: 1;}#sk-container-id-4 div.sk-label:hover label.sk-toggleable__label {background-color: #d4ebff;}#sk-container-id-4 div.sk-serial::before {content: \"\";position: absolute;border-left: 1px solid gray;box-sizing: border-box;top: 0;bottom: 0;left: 50%;z-index: 0;}#sk-container-id-4 div.sk-serial {display: flex;flex-direction: column;align-items: center;background-color: white;padding-right: 0.2em;padding-left: 0.2em;position: relative;}#sk-container-id-4 div.sk-item {position: relative;z-index: 1;}#sk-container-id-4 div.sk-parallel {display: flex;align-items: stretch;justify-content: center;background-color: white;position: relative;}#sk-container-id-4 div.sk-item::before, #sk-container-id-4 div.sk-parallel-item::before {content: \"\";position: absolute;border-left: 1px solid gray;box-sizing: border-box;top: 0;bottom: 0;left: 50%;z-index: -1;}#sk-container-id-4 div.sk-parallel-item {display: flex;flex-direction: column;z-index: 1;position: relative;background-color: white;}#sk-container-id-4 div.sk-parallel-item:first-child::after {align-self: flex-end;width: 50%;}#sk-container-id-4 div.sk-parallel-item:last-child::after {align-self: flex-start;width: 50%;}#sk-container-id-4 div.sk-parallel-item:only-child::after {width: 0;}#sk-container-id-4 div.sk-dashed-wrapped {border: 1px dashed gray;margin: 0 0.4em 0.5em 0.4em;box-sizing: border-box;padding-bottom: 0.4em;background-color: white;}#sk-container-id-4 div.sk-label label {font-family: monospace;font-weight: bold;display: inline-block;line-height: 1.2em;}#sk-container-id-4 div.sk-label-container {text-align: center;}#sk-container-id-4 div.sk-container {/* jupyter's `normalize.less` sets `[hidden] { display: none; }` but bootstrap.min.css set `[hidden] { display: none !important; }` so we also need the `!important` here to be able to override the default hidden behavior on the sphinx rendered scikit-learn.org. See: https://github.com/scikit-learn/scikit-learn/issues/21755 */display: inline-block !important;position: relative;}#sk-container-id-4 div.sk-text-repr-fallback {display: none;}</style><div id=\"sk-container-id-4\" class=\"sk-top-container\"><div class=\"sk-text-repr-fallback\"><pre>Pipeline(steps=[(&#x27;preprocessor&#x27;,\n",
       "                 ColumnTransformer(transformers=[(&#x27;num&#x27;, StandardScaler(),\n",
       "                                                  [&#x27;EXP_1&#x27;, &#x27;EXP_2&#x27;, &#x27;IMP_1&#x27;,\n",
       "                                                   &#x27;IMP_2&#x27;, &#x27;RES_1&#x27;, &#x27;RES_2&#x27;,\n",
       "                                                   &#x27;RES_3&#x27;, &#x27;RES_4&#x27;, &#x27;FOOBE_1&#x27;,\n",
       "                                                   &#x27;FOOBE_3&#x27;, &#x27;FOOBE_4&#x27;,\n",
       "                                                   &#x27;FOOBE_5&#x27;, &#x27;FOOBE_9&#x27;,\n",
       "                                                   &#x27;NEP_1&#x27;, &#x27;NEP_2&#x27;, &#x27;NEP_3&#x27;,\n",
       "                                                   &#x27;SN_1&#x27;, &#x27;SN_2&#x27;, &#x27;FAI_1&#x27;,\n",
       "                                                   &#x27;FAI_2&#x27;, &#x27;SR_1&#x27;, &#x27;SR_2&#x27;,\n",
       "                                                   &#x27;SC_1&#x27;, &#x27;AFC_1&#x27;, &#x27;AFC_2&#x27;,\n",
       "                                                   &#x27;TH_1&#x27;, &#x27;TH_2&#x27;, &#x27;TH_3&#x27;,\n",
       "                                                   &#x27;COPK_1&#x27;, &#x27;COPK_2&#x27;, ...]),\n",
       "                                                 (&#x27;cat&#x27;, OneHotEncoder(),\n",
       "                                                  [&#x27;AGE&#x27;, &#x27;GEN&#x27;, &#x27;DIS&#x27;, &#x27;EDU&#x27;,\n",
       "                                                   &#x27;CWS&#x27;, &#x27;HHI&#x27;])])),\n",
       "                (&#x27;classifier&#x27;,\n",
       "                 RandomForestClassifier(class_weight={1: 1, 2: 2, 3: 2},\n",
       "                                        random_state=42))])</pre><b>In a Jupyter environment, please rerun this cell to show the HTML representation or trust the notebook. <br />On GitHub, the HTML representation is unable to render, please try loading this page with nbviewer.org.</b></div><div class=\"sk-container\" hidden><div class=\"sk-item sk-dashed-wrapped\"><div class=\"sk-label-container\"><div class=\"sk-label sk-toggleable\"><input class=\"sk-toggleable__control sk-hidden--visually\" id=\"sk-estimator-id-22\" type=\"checkbox\" ><label for=\"sk-estimator-id-22\" class=\"sk-toggleable__label sk-toggleable__label-arrow\">Pipeline</label><div class=\"sk-toggleable__content\"><pre>Pipeline(steps=[(&#x27;preprocessor&#x27;,\n",
       "                 ColumnTransformer(transformers=[(&#x27;num&#x27;, StandardScaler(),\n",
       "                                                  [&#x27;EXP_1&#x27;, &#x27;EXP_2&#x27;, &#x27;IMP_1&#x27;,\n",
       "                                                   &#x27;IMP_2&#x27;, &#x27;RES_1&#x27;, &#x27;RES_2&#x27;,\n",
       "                                                   &#x27;RES_3&#x27;, &#x27;RES_4&#x27;, &#x27;FOOBE_1&#x27;,\n",
       "                                                   &#x27;FOOBE_3&#x27;, &#x27;FOOBE_4&#x27;,\n",
       "                                                   &#x27;FOOBE_5&#x27;, &#x27;FOOBE_9&#x27;,\n",
       "                                                   &#x27;NEP_1&#x27;, &#x27;NEP_2&#x27;, &#x27;NEP_3&#x27;,\n",
       "                                                   &#x27;SN_1&#x27;, &#x27;SN_2&#x27;, &#x27;FAI_1&#x27;,\n",
       "                                                   &#x27;FAI_2&#x27;, &#x27;SR_1&#x27;, &#x27;SR_2&#x27;,\n",
       "                                                   &#x27;SC_1&#x27;, &#x27;AFC_1&#x27;, &#x27;AFC_2&#x27;,\n",
       "                                                   &#x27;TH_1&#x27;, &#x27;TH_2&#x27;, &#x27;TH_3&#x27;,\n",
       "                                                   &#x27;COPK_1&#x27;, &#x27;COPK_2&#x27;, ...]),\n",
       "                                                 (&#x27;cat&#x27;, OneHotEncoder(),\n",
       "                                                  [&#x27;AGE&#x27;, &#x27;GEN&#x27;, &#x27;DIS&#x27;, &#x27;EDU&#x27;,\n",
       "                                                   &#x27;CWS&#x27;, &#x27;HHI&#x27;])])),\n",
       "                (&#x27;classifier&#x27;,\n",
       "                 RandomForestClassifier(class_weight={1: 1, 2: 2, 3: 2},\n",
       "                                        random_state=42))])</pre></div></div></div><div class=\"sk-serial\"><div class=\"sk-item sk-dashed-wrapped\"><div class=\"sk-label-container\"><div class=\"sk-label sk-toggleable\"><input class=\"sk-toggleable__control sk-hidden--visually\" id=\"sk-estimator-id-23\" type=\"checkbox\" ><label for=\"sk-estimator-id-23\" class=\"sk-toggleable__label sk-toggleable__label-arrow\">preprocessor: ColumnTransformer</label><div class=\"sk-toggleable__content\"><pre>ColumnTransformer(transformers=[(&#x27;num&#x27;, StandardScaler(),\n",
       "                                 [&#x27;EXP_1&#x27;, &#x27;EXP_2&#x27;, &#x27;IMP_1&#x27;, &#x27;IMP_2&#x27;, &#x27;RES_1&#x27;,\n",
       "                                  &#x27;RES_2&#x27;, &#x27;RES_3&#x27;, &#x27;RES_4&#x27;, &#x27;FOOBE_1&#x27;,\n",
       "                                  &#x27;FOOBE_3&#x27;, &#x27;FOOBE_4&#x27;, &#x27;FOOBE_5&#x27;, &#x27;FOOBE_9&#x27;,\n",
       "                                  &#x27;NEP_1&#x27;, &#x27;NEP_2&#x27;, &#x27;NEP_3&#x27;, &#x27;SN_1&#x27;, &#x27;SN_2&#x27;,\n",
       "                                  &#x27;FAI_1&#x27;, &#x27;FAI_2&#x27;, &#x27;SR_1&#x27;, &#x27;SR_2&#x27;, &#x27;SC_1&#x27;,\n",
       "                                  &#x27;AFC_1&#x27;, &#x27;AFC_2&#x27;, &#x27;TH_1&#x27;, &#x27;TH_2&#x27;, &#x27;TH_3&#x27;,\n",
       "                                  &#x27;COPK_1&#x27;, &#x27;COPK_2&#x27;, ...]),\n",
       "                                (&#x27;cat&#x27;, OneHotEncoder(),\n",
       "                                 [&#x27;AGE&#x27;, &#x27;GEN&#x27;, &#x27;DIS&#x27;, &#x27;EDU&#x27;, &#x27;CWS&#x27;, &#x27;HHI&#x27;])])</pre></div></div></div><div class=\"sk-parallel\"><div class=\"sk-parallel-item\"><div class=\"sk-item\"><div class=\"sk-label-container\"><div class=\"sk-label sk-toggleable\"><input class=\"sk-toggleable__control sk-hidden--visually\" id=\"sk-estimator-id-24\" type=\"checkbox\" ><label for=\"sk-estimator-id-24\" class=\"sk-toggleable__label sk-toggleable__label-arrow\">num</label><div class=\"sk-toggleable__content\"><pre>[&#x27;EXP_1&#x27;, &#x27;EXP_2&#x27;, &#x27;IMP_1&#x27;, &#x27;IMP_2&#x27;, &#x27;RES_1&#x27;, &#x27;RES_2&#x27;, &#x27;RES_3&#x27;, &#x27;RES_4&#x27;, &#x27;FOOBE_1&#x27;, &#x27;FOOBE_3&#x27;, &#x27;FOOBE_4&#x27;, &#x27;FOOBE_5&#x27;, &#x27;FOOBE_9&#x27;, &#x27;NEP_1&#x27;, &#x27;NEP_2&#x27;, &#x27;NEP_3&#x27;, &#x27;SN_1&#x27;, &#x27;SN_2&#x27;, &#x27;FAI_1&#x27;, &#x27;FAI_2&#x27;, &#x27;SR_1&#x27;, &#x27;SR_2&#x27;, &#x27;SC_1&#x27;, &#x27;AFC_1&#x27;, &#x27;AFC_2&#x27;, &#x27;TH_1&#x27;, &#x27;TH_2&#x27;, &#x27;TH_3&#x27;, &#x27;COPK_1&#x27;, &#x27;COPK_2&#x27;, &#x27;COPK_3&#x27;, &#x27;CLK_1&#x27;, &#x27;CLK_2&#x27;, &#x27;CLK_3&#x27;, &#x27;INF_1&#x27;, &#x27;INF_2&#x27;, &#x27;INF_3&#x27;, &#x27;INF_4&#x27;]</pre></div></div></div><div class=\"sk-serial\"><div class=\"sk-item\"><div class=\"sk-estimator sk-toggleable\"><input class=\"sk-toggleable__control sk-hidden--visually\" id=\"sk-estimator-id-25\" type=\"checkbox\" ><label for=\"sk-estimator-id-25\" class=\"sk-toggleable__label sk-toggleable__label-arrow\">StandardScaler</label><div class=\"sk-toggleable__content\"><pre>StandardScaler()</pre></div></div></div></div></div></div><div class=\"sk-parallel-item\"><div class=\"sk-item\"><div class=\"sk-label-container\"><div class=\"sk-label sk-toggleable\"><input class=\"sk-toggleable__control sk-hidden--visually\" id=\"sk-estimator-id-26\" type=\"checkbox\" ><label for=\"sk-estimator-id-26\" class=\"sk-toggleable__label sk-toggleable__label-arrow\">cat</label><div class=\"sk-toggleable__content\"><pre>[&#x27;AGE&#x27;, &#x27;GEN&#x27;, &#x27;DIS&#x27;, &#x27;EDU&#x27;, &#x27;CWS&#x27;, &#x27;HHI&#x27;]</pre></div></div></div><div class=\"sk-serial\"><div class=\"sk-item\"><div class=\"sk-estimator sk-toggleable\"><input class=\"sk-toggleable__control sk-hidden--visually\" id=\"sk-estimator-id-27\" type=\"checkbox\" ><label for=\"sk-estimator-id-27\" class=\"sk-toggleable__label sk-toggleable__label-arrow\">OneHotEncoder</label><div class=\"sk-toggleable__content\"><pre>OneHotEncoder()</pre></div></div></div></div></div></div></div></div><div class=\"sk-item\"><div class=\"sk-estimator sk-toggleable\"><input class=\"sk-toggleable__control sk-hidden--visually\" id=\"sk-estimator-id-28\" type=\"checkbox\" ><label for=\"sk-estimator-id-28\" class=\"sk-toggleable__label sk-toggleable__label-arrow\">RandomForestClassifier</label><div class=\"sk-toggleable__content\"><pre>RandomForestClassifier(class_weight={1: 1, 2: 2, 3: 2}, random_state=42)</pre></div></div></div></div></div></div></div>"
      ],
      "text/plain": [
       "Pipeline(steps=[('preprocessor',\n",
       "                 ColumnTransformer(transformers=[('num', StandardScaler(),\n",
       "                                                  ['EXP_1', 'EXP_2', 'IMP_1',\n",
       "                                                   'IMP_2', 'RES_1', 'RES_2',\n",
       "                                                   'RES_3', 'RES_4', 'FOOBE_1',\n",
       "                                                   'FOOBE_3', 'FOOBE_4',\n",
       "                                                   'FOOBE_5', 'FOOBE_9',\n",
       "                                                   'NEP_1', 'NEP_2', 'NEP_3',\n",
       "                                                   'SN_1', 'SN_2', 'FAI_1',\n",
       "                                                   'FAI_2', 'SR_1', 'SR_2',\n",
       "                                                   'SC_1', 'AFC_1', 'AFC_2',\n",
       "                                                   'TH_1', 'TH_2', 'TH_3',\n",
       "                                                   'COPK_1', 'COPK_2', ...]),\n",
       "                                                 ('cat', OneHotEncoder(),\n",
       "                                                  ['AGE', 'GEN', 'DIS', 'EDU',\n",
       "                                                   'CWS', 'HHI'])])),\n",
       "                ('classifier',\n",
       "                 RandomForestClassifier(class_weight={1: 1, 2: 2, 3: 2},\n",
       "                                        random_state=42))])"
      ]
     },
     "execution_count": 13,
     "metadata": {},
     "output_type": "execute_result"
    }
   ],
   "source": [
    "# Retrain the model with the modified target\n",
    "rf_pipeline.fit(X_train, y_train_modified)"
   ]
  },
  {
   "cell_type": "code",
   "execution_count": 14,
   "id": "a65cf3f6",
   "metadata": {},
   "outputs": [
    {
     "data": {
      "text/html": [
       "<style>#sk-container-id-5 {color: black;}#sk-container-id-5 pre{padding: 0;}#sk-container-id-5 div.sk-toggleable {background-color: white;}#sk-container-id-5 label.sk-toggleable__label {cursor: pointer;display: block;width: 100%;margin-bottom: 0;padding: 0.3em;box-sizing: border-box;text-align: center;}#sk-container-id-5 label.sk-toggleable__label-arrow:before {content: \"▸\";float: left;margin-right: 0.25em;color: #696969;}#sk-container-id-5 label.sk-toggleable__label-arrow:hover:before {color: black;}#sk-container-id-5 div.sk-estimator:hover label.sk-toggleable__label-arrow:before {color: black;}#sk-container-id-5 div.sk-toggleable__content {max-height: 0;max-width: 0;overflow: hidden;text-align: left;background-color: #f0f8ff;}#sk-container-id-5 div.sk-toggleable__content pre {margin: 0.2em;color: black;border-radius: 0.25em;background-color: #f0f8ff;}#sk-container-id-5 input.sk-toggleable__control:checked~div.sk-toggleable__content {max-height: 200px;max-width: 100%;overflow: auto;}#sk-container-id-5 input.sk-toggleable__control:checked~label.sk-toggleable__label-arrow:before {content: \"▾\";}#sk-container-id-5 div.sk-estimator input.sk-toggleable__control:checked~label.sk-toggleable__label {background-color: #d4ebff;}#sk-container-id-5 div.sk-label input.sk-toggleable__control:checked~label.sk-toggleable__label {background-color: #d4ebff;}#sk-container-id-5 input.sk-hidden--visually {border: 0;clip: rect(1px 1px 1px 1px);clip: rect(1px, 1px, 1px, 1px);height: 1px;margin: -1px;overflow: hidden;padding: 0;position: absolute;width: 1px;}#sk-container-id-5 div.sk-estimator {font-family: monospace;background-color: #f0f8ff;border: 1px dotted black;border-radius: 0.25em;box-sizing: border-box;margin-bottom: 0.5em;}#sk-container-id-5 div.sk-estimator:hover {background-color: #d4ebff;}#sk-container-id-5 div.sk-parallel-item::after {content: \"\";width: 100%;border-bottom: 1px solid gray;flex-grow: 1;}#sk-container-id-5 div.sk-label:hover label.sk-toggleable__label {background-color: #d4ebff;}#sk-container-id-5 div.sk-serial::before {content: \"\";position: absolute;border-left: 1px solid gray;box-sizing: border-box;top: 0;bottom: 0;left: 50%;z-index: 0;}#sk-container-id-5 div.sk-serial {display: flex;flex-direction: column;align-items: center;background-color: white;padding-right: 0.2em;padding-left: 0.2em;position: relative;}#sk-container-id-5 div.sk-item {position: relative;z-index: 1;}#sk-container-id-5 div.sk-parallel {display: flex;align-items: stretch;justify-content: center;background-color: white;position: relative;}#sk-container-id-5 div.sk-item::before, #sk-container-id-5 div.sk-parallel-item::before {content: \"\";position: absolute;border-left: 1px solid gray;box-sizing: border-box;top: 0;bottom: 0;left: 50%;z-index: -1;}#sk-container-id-5 div.sk-parallel-item {display: flex;flex-direction: column;z-index: 1;position: relative;background-color: white;}#sk-container-id-5 div.sk-parallel-item:first-child::after {align-self: flex-end;width: 50%;}#sk-container-id-5 div.sk-parallel-item:last-child::after {align-self: flex-start;width: 50%;}#sk-container-id-5 div.sk-parallel-item:only-child::after {width: 0;}#sk-container-id-5 div.sk-dashed-wrapped {border: 1px dashed gray;margin: 0 0.4em 0.5em 0.4em;box-sizing: border-box;padding-bottom: 0.4em;background-color: white;}#sk-container-id-5 div.sk-label label {font-family: monospace;font-weight: bold;display: inline-block;line-height: 1.2em;}#sk-container-id-5 div.sk-label-container {text-align: center;}#sk-container-id-5 div.sk-container {/* jupyter's `normalize.less` sets `[hidden] { display: none; }` but bootstrap.min.css set `[hidden] { display: none !important; }` so we also need the `!important` here to be able to override the default hidden behavior on the sphinx rendered scikit-learn.org. See: https://github.com/scikit-learn/scikit-learn/issues/21755 */display: inline-block !important;position: relative;}#sk-container-id-5 div.sk-text-repr-fallback {display: none;}</style><div id=\"sk-container-id-5\" class=\"sk-top-container\"><div class=\"sk-text-repr-fallback\"><pre>Pipeline(steps=[(&#x27;preprocessor&#x27;,\n",
       "                 ColumnTransformer(transformers=[(&#x27;num&#x27;, StandardScaler(),\n",
       "                                                  [&#x27;EXP_1&#x27;, &#x27;EXP_2&#x27;, &#x27;IMP_1&#x27;,\n",
       "                                                   &#x27;IMP_2&#x27;, &#x27;RES_1&#x27;, &#x27;RES_2&#x27;,\n",
       "                                                   &#x27;RES_3&#x27;, &#x27;RES_4&#x27;, &#x27;FOOBE_1&#x27;,\n",
       "                                                   &#x27;FOOBE_3&#x27;, &#x27;FOOBE_4&#x27;,\n",
       "                                                   &#x27;FOOBE_5&#x27;, &#x27;FOOBE_9&#x27;,\n",
       "                                                   &#x27;NEP_1&#x27;, &#x27;NEP_2&#x27;, &#x27;NEP_3&#x27;,\n",
       "                                                   &#x27;SN_1&#x27;, &#x27;SN_2&#x27;, &#x27;FAI_1&#x27;,\n",
       "                                                   &#x27;FAI_2&#x27;, &#x27;SR_1&#x27;, &#x27;SR_2&#x27;,\n",
       "                                                   &#x27;SC_1&#x27;, &#x27;AFC_1&#x27;, &#x27;AFC_2&#x27;,\n",
       "                                                   &#x27;TH_1&#x27;, &#x27;TH_2&#x27;, &#x27;TH_3&#x27;,\n",
       "                                                   &#x27;COPK_1&#x27;, &#x27;COPK_2&#x27;, ...]),\n",
       "                                                 (&#x27;cat&#x27;, OneHotEncoder(),\n",
       "                                                  [&#x27;AGE&#x27;, &#x27;GEN&#x27;, &#x27;DIS&#x27;, &#x27;EDU&#x27;,\n",
       "                                                   &#x27;CWS&#x27;, &#x27;HHI&#x27;])])),\n",
       "                (&#x27;classifier&#x27;,\n",
       "                 RandomForestClassifier(class_weight={1: 1, 2: 2, 3: 2},\n",
       "                                        random_state=42))])</pre><b>In a Jupyter environment, please rerun this cell to show the HTML representation or trust the notebook. <br />On GitHub, the HTML representation is unable to render, please try loading this page with nbviewer.org.</b></div><div class=\"sk-container\" hidden><div class=\"sk-item sk-dashed-wrapped\"><div class=\"sk-label-container\"><div class=\"sk-label sk-toggleable\"><input class=\"sk-toggleable__control sk-hidden--visually\" id=\"sk-estimator-id-29\" type=\"checkbox\" ><label for=\"sk-estimator-id-29\" class=\"sk-toggleable__label sk-toggleable__label-arrow\">Pipeline</label><div class=\"sk-toggleable__content\"><pre>Pipeline(steps=[(&#x27;preprocessor&#x27;,\n",
       "                 ColumnTransformer(transformers=[(&#x27;num&#x27;, StandardScaler(),\n",
       "                                                  [&#x27;EXP_1&#x27;, &#x27;EXP_2&#x27;, &#x27;IMP_1&#x27;,\n",
       "                                                   &#x27;IMP_2&#x27;, &#x27;RES_1&#x27;, &#x27;RES_2&#x27;,\n",
       "                                                   &#x27;RES_3&#x27;, &#x27;RES_4&#x27;, &#x27;FOOBE_1&#x27;,\n",
       "                                                   &#x27;FOOBE_3&#x27;, &#x27;FOOBE_4&#x27;,\n",
       "                                                   &#x27;FOOBE_5&#x27;, &#x27;FOOBE_9&#x27;,\n",
       "                                                   &#x27;NEP_1&#x27;, &#x27;NEP_2&#x27;, &#x27;NEP_3&#x27;,\n",
       "                                                   &#x27;SN_1&#x27;, &#x27;SN_2&#x27;, &#x27;FAI_1&#x27;,\n",
       "                                                   &#x27;FAI_2&#x27;, &#x27;SR_1&#x27;, &#x27;SR_2&#x27;,\n",
       "                                                   &#x27;SC_1&#x27;, &#x27;AFC_1&#x27;, &#x27;AFC_2&#x27;,\n",
       "                                                   &#x27;TH_1&#x27;, &#x27;TH_2&#x27;, &#x27;TH_3&#x27;,\n",
       "                                                   &#x27;COPK_1&#x27;, &#x27;COPK_2&#x27;, ...]),\n",
       "                                                 (&#x27;cat&#x27;, OneHotEncoder(),\n",
       "                                                  [&#x27;AGE&#x27;, &#x27;GEN&#x27;, &#x27;DIS&#x27;, &#x27;EDU&#x27;,\n",
       "                                                   &#x27;CWS&#x27;, &#x27;HHI&#x27;])])),\n",
       "                (&#x27;classifier&#x27;,\n",
       "                 RandomForestClassifier(class_weight={1: 1, 2: 2, 3: 2},\n",
       "                                        random_state=42))])</pre></div></div></div><div class=\"sk-serial\"><div class=\"sk-item sk-dashed-wrapped\"><div class=\"sk-label-container\"><div class=\"sk-label sk-toggleable\"><input class=\"sk-toggleable__control sk-hidden--visually\" id=\"sk-estimator-id-30\" type=\"checkbox\" ><label for=\"sk-estimator-id-30\" class=\"sk-toggleable__label sk-toggleable__label-arrow\">preprocessor: ColumnTransformer</label><div class=\"sk-toggleable__content\"><pre>ColumnTransformer(transformers=[(&#x27;num&#x27;, StandardScaler(),\n",
       "                                 [&#x27;EXP_1&#x27;, &#x27;EXP_2&#x27;, &#x27;IMP_1&#x27;, &#x27;IMP_2&#x27;, &#x27;RES_1&#x27;,\n",
       "                                  &#x27;RES_2&#x27;, &#x27;RES_3&#x27;, &#x27;RES_4&#x27;, &#x27;FOOBE_1&#x27;,\n",
       "                                  &#x27;FOOBE_3&#x27;, &#x27;FOOBE_4&#x27;, &#x27;FOOBE_5&#x27;, &#x27;FOOBE_9&#x27;,\n",
       "                                  &#x27;NEP_1&#x27;, &#x27;NEP_2&#x27;, &#x27;NEP_3&#x27;, &#x27;SN_1&#x27;, &#x27;SN_2&#x27;,\n",
       "                                  &#x27;FAI_1&#x27;, &#x27;FAI_2&#x27;, &#x27;SR_1&#x27;, &#x27;SR_2&#x27;, &#x27;SC_1&#x27;,\n",
       "                                  &#x27;AFC_1&#x27;, &#x27;AFC_2&#x27;, &#x27;TH_1&#x27;, &#x27;TH_2&#x27;, &#x27;TH_3&#x27;,\n",
       "                                  &#x27;COPK_1&#x27;, &#x27;COPK_2&#x27;, ...]),\n",
       "                                (&#x27;cat&#x27;, OneHotEncoder(),\n",
       "                                 [&#x27;AGE&#x27;, &#x27;GEN&#x27;, &#x27;DIS&#x27;, &#x27;EDU&#x27;, &#x27;CWS&#x27;, &#x27;HHI&#x27;])])</pre></div></div></div><div class=\"sk-parallel\"><div class=\"sk-parallel-item\"><div class=\"sk-item\"><div class=\"sk-label-container\"><div class=\"sk-label sk-toggleable\"><input class=\"sk-toggleable__control sk-hidden--visually\" id=\"sk-estimator-id-31\" type=\"checkbox\" ><label for=\"sk-estimator-id-31\" class=\"sk-toggleable__label sk-toggleable__label-arrow\">num</label><div class=\"sk-toggleable__content\"><pre>[&#x27;EXP_1&#x27;, &#x27;EXP_2&#x27;, &#x27;IMP_1&#x27;, &#x27;IMP_2&#x27;, &#x27;RES_1&#x27;, &#x27;RES_2&#x27;, &#x27;RES_3&#x27;, &#x27;RES_4&#x27;, &#x27;FOOBE_1&#x27;, &#x27;FOOBE_3&#x27;, &#x27;FOOBE_4&#x27;, &#x27;FOOBE_5&#x27;, &#x27;FOOBE_9&#x27;, &#x27;NEP_1&#x27;, &#x27;NEP_2&#x27;, &#x27;NEP_3&#x27;, &#x27;SN_1&#x27;, &#x27;SN_2&#x27;, &#x27;FAI_1&#x27;, &#x27;FAI_2&#x27;, &#x27;SR_1&#x27;, &#x27;SR_2&#x27;, &#x27;SC_1&#x27;, &#x27;AFC_1&#x27;, &#x27;AFC_2&#x27;, &#x27;TH_1&#x27;, &#x27;TH_2&#x27;, &#x27;TH_3&#x27;, &#x27;COPK_1&#x27;, &#x27;COPK_2&#x27;, &#x27;COPK_3&#x27;, &#x27;CLK_1&#x27;, &#x27;CLK_2&#x27;, &#x27;CLK_3&#x27;, &#x27;INF_1&#x27;, &#x27;INF_2&#x27;, &#x27;INF_3&#x27;, &#x27;INF_4&#x27;]</pre></div></div></div><div class=\"sk-serial\"><div class=\"sk-item\"><div class=\"sk-estimator sk-toggleable\"><input class=\"sk-toggleable__control sk-hidden--visually\" id=\"sk-estimator-id-32\" type=\"checkbox\" ><label for=\"sk-estimator-id-32\" class=\"sk-toggleable__label sk-toggleable__label-arrow\">StandardScaler</label><div class=\"sk-toggleable__content\"><pre>StandardScaler()</pre></div></div></div></div></div></div><div class=\"sk-parallel-item\"><div class=\"sk-item\"><div class=\"sk-label-container\"><div class=\"sk-label sk-toggleable\"><input class=\"sk-toggleable__control sk-hidden--visually\" id=\"sk-estimator-id-33\" type=\"checkbox\" ><label for=\"sk-estimator-id-33\" class=\"sk-toggleable__label sk-toggleable__label-arrow\">cat</label><div class=\"sk-toggleable__content\"><pre>[&#x27;AGE&#x27;, &#x27;GEN&#x27;, &#x27;DIS&#x27;, &#x27;EDU&#x27;, &#x27;CWS&#x27;, &#x27;HHI&#x27;]</pre></div></div></div><div class=\"sk-serial\"><div class=\"sk-item\"><div class=\"sk-estimator sk-toggleable\"><input class=\"sk-toggleable__control sk-hidden--visually\" id=\"sk-estimator-id-34\" type=\"checkbox\" ><label for=\"sk-estimator-id-34\" class=\"sk-toggleable__label sk-toggleable__label-arrow\">OneHotEncoder</label><div class=\"sk-toggleable__content\"><pre>OneHotEncoder()</pre></div></div></div></div></div></div></div></div><div class=\"sk-item\"><div class=\"sk-estimator sk-toggleable\"><input class=\"sk-toggleable__control sk-hidden--visually\" id=\"sk-estimator-id-35\" type=\"checkbox\" ><label for=\"sk-estimator-id-35\" class=\"sk-toggleable__label sk-toggleable__label-arrow\">RandomForestClassifier</label><div class=\"sk-toggleable__content\"><pre>RandomForestClassifier(class_weight={1: 1, 2: 2, 3: 2}, random_state=42)</pre></div></div></div></div></div></div></div>"
      ],
      "text/plain": [
       "Pipeline(steps=[('preprocessor',\n",
       "                 ColumnTransformer(transformers=[('num', StandardScaler(),\n",
       "                                                  ['EXP_1', 'EXP_2', 'IMP_1',\n",
       "                                                   'IMP_2', 'RES_1', 'RES_2',\n",
       "                                                   'RES_3', 'RES_4', 'FOOBE_1',\n",
       "                                                   'FOOBE_3', 'FOOBE_4',\n",
       "                                                   'FOOBE_5', 'FOOBE_9',\n",
       "                                                   'NEP_1', 'NEP_2', 'NEP_3',\n",
       "                                                   'SN_1', 'SN_2', 'FAI_1',\n",
       "                                                   'FAI_2', 'SR_1', 'SR_2',\n",
       "                                                   'SC_1', 'AFC_1', 'AFC_2',\n",
       "                                                   'TH_1', 'TH_2', 'TH_3',\n",
       "                                                   'COPK_1', 'COPK_2', ...]),\n",
       "                                                 ('cat', OneHotEncoder(),\n",
       "                                                  ['AGE', 'GEN', 'DIS', 'EDU',\n",
       "                                                   'CWS', 'HHI'])])),\n",
       "                ('classifier',\n",
       "                 RandomForestClassifier(class_weight={1: 1, 2: 2, 3: 2},\n",
       "                                        random_state=42))])"
      ]
     },
     "execution_count": 14,
     "metadata": {},
     "output_type": "execute_result"
    }
   ],
   "source": [
    "# Retrain the model with the modified target\n",
    "rf_pipeline.fit(X_train, y_train_modified)"
   ]
  },
  {
   "cell_type": "code",
   "execution_count": 15,
   "id": "e695a3c5",
   "metadata": {},
   "outputs": [
    {
     "name": "stdout",
     "output_type": "stream",
     "text": [
      "              precision    recall  f1-score   support\n",
      "\n",
      "           1       0.61      0.69      0.65       161\n",
      "           2       0.63      0.55      0.58       154\n",
      "\n",
      "    accuracy                           0.62       315\n",
      "   macro avg       0.62      0.62      0.62       315\n",
      "weighted avg       0.62      0.62      0.62       315\n",
      "\n",
      "[[111  50]\n",
      " [ 70  84]]\n"
     ]
    }
   ],
   "source": [
    "# Making predictions on the test set with the retrained model\n",
    "y_pred_modified = rf_pipeline.predict(X_test)\n",
    "\n",
    "# Evaluating the model performance with the modified target variable\n",
    "print(classification_report(y_test_modified, y_pred_modified))\n",
    "print(confusion_matrix(y_test_modified, y_pred_modified))"
   ]
  },
  {
   "cell_type": "code",
   "execution_count": 16,
   "id": "4c27e899",
   "metadata": {},
   "outputs": [],
   "source": [
    "# Create composite scores for each category\n",
    "# Example: 'attitudes' category\n",
    "attitude_questions = ['IMP_1', 'IMP_2', 'EXP_1', 'EXP_2']\n",
    "data['attitude_score'] = data[attitude_questions].mean(axis=1)\n",
    "\n",
    "# Repeat for other categories like 'norms', 'self-concept', etc.\n",
    "# Make sure to replace the question names with the correct ones from your dataset\n",
    "\n",
    "# Drop the original questions to avoid duplicating information\n",
    "data = data.drop(attitude_questions, axis=1)\n",
    "# Repeat for other categories as well"
   ]
  },
  {
   "cell_type": "code",
   "execution_count": 17,
   "id": "5e4e3086",
   "metadata": {},
   "outputs": [
    {
     "ename": "KeyError",
     "evalue": "\"None of [Index(['IMP_1', 'IMP_2', 'EXP_1', 'EXP_2'], dtype='object')] are in the [columns]\"",
     "output_type": "error",
     "traceback": [
      "\u001b[1;31m---------------------------------------------------------------------------\u001b[0m",
      "\u001b[1;31mKeyError\u001b[0m                                  Traceback (most recent call last)",
      "Cell \u001b[1;32mIn[17], line 3\u001b[0m\n\u001b[0;32m      1\u001b[0m \u001b[38;5;66;03m# Attitudes\u001b[39;00m\n\u001b[0;32m      2\u001b[0m attitude_questions \u001b[38;5;241m=\u001b[39m [\u001b[38;5;124m'\u001b[39m\u001b[38;5;124mIMP_1\u001b[39m\u001b[38;5;124m'\u001b[39m, \u001b[38;5;124m'\u001b[39m\u001b[38;5;124mIMP_2\u001b[39m\u001b[38;5;124m'\u001b[39m, \u001b[38;5;124m'\u001b[39m\u001b[38;5;124mEXP_1\u001b[39m\u001b[38;5;124m'\u001b[39m, \u001b[38;5;124m'\u001b[39m\u001b[38;5;124mEXP_2\u001b[39m\u001b[38;5;124m'\u001b[39m]\n\u001b[1;32m----> 3\u001b[0m data[\u001b[38;5;124m'\u001b[39m\u001b[38;5;124mattitude_score\u001b[39m\u001b[38;5;124m'\u001b[39m] \u001b[38;5;241m=\u001b[39m data[attitude_questions]\u001b[38;5;241m.\u001b[39mmean(axis\u001b[38;5;241m=\u001b[39m\u001b[38;5;241m1\u001b[39m)\n\u001b[0;32m      5\u001b[0m \u001b[38;5;66;03m# Norms\u001b[39;00m\n\u001b[0;32m      6\u001b[0m norms_questions \u001b[38;5;241m=\u001b[39m [\u001b[38;5;124m'\u001b[39m\u001b[38;5;124mRES_1\u001b[39m\u001b[38;5;124m'\u001b[39m, \u001b[38;5;124m'\u001b[39m\u001b[38;5;124mRES_2\u001b[39m\u001b[38;5;124m'\u001b[39m, \u001b[38;5;124m'\u001b[39m\u001b[38;5;124mRES_3\u001b[39m\u001b[38;5;124m'\u001b[39m, \u001b[38;5;124m'\u001b[39m\u001b[38;5;124mRES_4\u001b[39m\u001b[38;5;124m'\u001b[39m, \u001b[38;5;124m'\u001b[39m\u001b[38;5;124mFOOBE_1\u001b[39m\u001b[38;5;124m'\u001b[39m, \u001b[38;5;124m'\u001b[39m\u001b[38;5;124mFOOBE_2\u001b[39m\u001b[38;5;124m'\u001b[39m, \u001b[38;5;124m'\u001b[39m\u001b[38;5;124mFOOBE_3\u001b[39m\u001b[38;5;124m'\u001b[39m, \u001b[38;5;124m'\u001b[39m\u001b[38;5;124mFOOBE_4\u001b[39m\u001b[38;5;124m'\u001b[39m, \u001b[38;5;124m'\u001b[39m\u001b[38;5;124mFOOBE_5\u001b[39m\u001b[38;5;124m'\u001b[39m, \u001b[38;5;124m'\u001b[39m\u001b[38;5;124mFOOBE_9\u001b[39m\u001b[38;5;124m'\u001b[39m, \u001b[38;5;124m'\u001b[39m\u001b[38;5;124mNEP_1\u001b[39m\u001b[38;5;124m'\u001b[39m, \u001b[38;5;124m'\u001b[39m\u001b[38;5;124mNEP_2\u001b[39m\u001b[38;5;124m'\u001b[39m, \u001b[38;5;124m'\u001b[39m\u001b[38;5;124mNEP_3\u001b[39m\u001b[38;5;124m'\u001b[39m, \u001b[38;5;124m'\u001b[39m\u001b[38;5;124mSN_1\u001b[39m\u001b[38;5;124m'\u001b[39m, \u001b[38;5;124m'\u001b[39m\u001b[38;5;124mSN_2\u001b[39m\u001b[38;5;124m'\u001b[39m]\n",
      "File \u001b[1;32m~\\anaconda3\\Lib\\site-packages\\pandas\\core\\frame.py:3902\u001b[0m, in \u001b[0;36mDataFrame.__getitem__\u001b[1;34m(self, key)\u001b[0m\n\u001b[0;32m   3900\u001b[0m     \u001b[38;5;28;01mif\u001b[39;00m is_iterator(key):\n\u001b[0;32m   3901\u001b[0m         key \u001b[38;5;241m=\u001b[39m \u001b[38;5;28mlist\u001b[39m(key)\n\u001b[1;32m-> 3902\u001b[0m     indexer \u001b[38;5;241m=\u001b[39m \u001b[38;5;28mself\u001b[39m\u001b[38;5;241m.\u001b[39mcolumns\u001b[38;5;241m.\u001b[39m_get_indexer_strict(key, \u001b[38;5;124m\"\u001b[39m\u001b[38;5;124mcolumns\u001b[39m\u001b[38;5;124m\"\u001b[39m)[\u001b[38;5;241m1\u001b[39m]\n\u001b[0;32m   3904\u001b[0m \u001b[38;5;66;03m# take() does not accept boolean indexers\u001b[39;00m\n\u001b[0;32m   3905\u001b[0m \u001b[38;5;28;01mif\u001b[39;00m \u001b[38;5;28mgetattr\u001b[39m(indexer, \u001b[38;5;124m\"\u001b[39m\u001b[38;5;124mdtype\u001b[39m\u001b[38;5;124m\"\u001b[39m, \u001b[38;5;28;01mNone\u001b[39;00m) \u001b[38;5;241m==\u001b[39m \u001b[38;5;28mbool\u001b[39m:\n",
      "File \u001b[1;32m~\\anaconda3\\Lib\\site-packages\\pandas\\core\\indexes\\base.py:6114\u001b[0m, in \u001b[0;36mIndex._get_indexer_strict\u001b[1;34m(self, key, axis_name)\u001b[0m\n\u001b[0;32m   6111\u001b[0m \u001b[38;5;28;01melse\u001b[39;00m:\n\u001b[0;32m   6112\u001b[0m     keyarr, indexer, new_indexer \u001b[38;5;241m=\u001b[39m \u001b[38;5;28mself\u001b[39m\u001b[38;5;241m.\u001b[39m_reindex_non_unique(keyarr)\n\u001b[1;32m-> 6114\u001b[0m \u001b[38;5;28mself\u001b[39m\u001b[38;5;241m.\u001b[39m_raise_if_missing(keyarr, indexer, axis_name)\n\u001b[0;32m   6116\u001b[0m keyarr \u001b[38;5;241m=\u001b[39m \u001b[38;5;28mself\u001b[39m\u001b[38;5;241m.\u001b[39mtake(indexer)\n\u001b[0;32m   6117\u001b[0m \u001b[38;5;28;01mif\u001b[39;00m \u001b[38;5;28misinstance\u001b[39m(key, Index):\n\u001b[0;32m   6118\u001b[0m     \u001b[38;5;66;03m# GH 42790 - Preserve name from an Index\u001b[39;00m\n",
      "File \u001b[1;32m~\\anaconda3\\Lib\\site-packages\\pandas\\core\\indexes\\base.py:6175\u001b[0m, in \u001b[0;36mIndex._raise_if_missing\u001b[1;34m(self, key, indexer, axis_name)\u001b[0m\n\u001b[0;32m   6173\u001b[0m     \u001b[38;5;28;01mif\u001b[39;00m use_interval_msg:\n\u001b[0;32m   6174\u001b[0m         key \u001b[38;5;241m=\u001b[39m \u001b[38;5;28mlist\u001b[39m(key)\n\u001b[1;32m-> 6175\u001b[0m     \u001b[38;5;28;01mraise\u001b[39;00m \u001b[38;5;167;01mKeyError\u001b[39;00m(\u001b[38;5;124mf\u001b[39m\u001b[38;5;124m\"\u001b[39m\u001b[38;5;124mNone of [\u001b[39m\u001b[38;5;132;01m{\u001b[39;00mkey\u001b[38;5;132;01m}\u001b[39;00m\u001b[38;5;124m] are in the [\u001b[39m\u001b[38;5;132;01m{\u001b[39;00maxis_name\u001b[38;5;132;01m}\u001b[39;00m\u001b[38;5;124m]\u001b[39m\u001b[38;5;124m\"\u001b[39m)\n\u001b[0;32m   6177\u001b[0m not_found \u001b[38;5;241m=\u001b[39m \u001b[38;5;28mlist\u001b[39m(ensure_index(key)[missing_mask\u001b[38;5;241m.\u001b[39mnonzero()[\u001b[38;5;241m0\u001b[39m]]\u001b[38;5;241m.\u001b[39munique())\n\u001b[0;32m   6178\u001b[0m \u001b[38;5;28;01mraise\u001b[39;00m \u001b[38;5;167;01mKeyError\u001b[39;00m(\u001b[38;5;124mf\u001b[39m\u001b[38;5;124m\"\u001b[39m\u001b[38;5;132;01m{\u001b[39;00mnot_found\u001b[38;5;132;01m}\u001b[39;00m\u001b[38;5;124m not in index\u001b[39m\u001b[38;5;124m\"\u001b[39m)\n",
      "\u001b[1;31mKeyError\u001b[0m: \"None of [Index(['IMP_1', 'IMP_2', 'EXP_1', 'EXP_2'], dtype='object')] are in the [columns]\""
     ]
    }
   ],
   "source": [
    "# Attitudes\n",
    "attitude_questions = ['IMP_1', 'IMP_2', 'EXP_1', 'EXP_2']\n",
    "data['attitude_score'] = data[attitude_questions].mean(axis=1)\n",
    "\n",
    "# Norms\n",
    "norms_questions = ['RES_1', 'RES_2', 'RES_3', 'RES_4', 'FOOBE_1', 'FOOBE_2', 'FOOBE_3', 'FOOBE_4', 'FOOBE_5', 'FOOBE_9', 'NEP_1', 'NEP_2', 'NEP_3', 'SN_1', 'SN_2']\n",
    "data['norms_score'] = data[norms_questions].mean(axis=1)\n",
    "\n",
    "# Self-Concept\n",
    "self_concept_questions = ['FAI_1', 'FAI_2', 'SR_1', 'SR_2', 'SC_1']\n",
    "data['self_concept_score'] = data[self_concept_questions].mean(axis=1)\n",
    "\n",
    "# Emotions\n",
    "emotions_questions = ['AFC_1', 'AFC_2']\n",
    "data['emotions_score'] = data[emotions_questions].mean(axis=1)\n",
    "\n",
    "# Habits\n",
    "habits_questions = ['TH_1', 'TH_2', 'TH_3']\n",
    "data['habits_score'] = data[habits_questions].mean(axis=1)\n",
    "\n",
    "# Facilitating Conditions (Knowledge)\n",
    "knowledge_questions = ['COPK_1', 'COPK_2', 'COPK_3', 'CLK_1', 'CLK_2', 'CLK_3']\n",
    "data['knowledge_score'] = data[knowledge_questions].mean(axis=1)\n",
    "\n",
    "# Facilitating Conditions (Information)\n",
    "information_questions = ['INF_1', 'INF_2', 'INF_3', 'INF_4']\n",
    "data['information_score'] = data[information_questions].mean(axis=1)\n",
    "\n",
    "# Dropping the original questions\n",
    "original_questions = attitude_questions + norms_questions + self_concept_questions + emotions_questions + habits_questions + knowledge_questions + information_questions\n",
    "data = data.drop(original_questions, axis=1)"
   ]
  },
  {
   "cell_type": "code",
   "execution_count": 18,
   "id": "dd3ba157",
   "metadata": {},
   "outputs": [
    {
     "ename": "KeyError",
     "evalue": "\"None of [Index(['EXP_1', 'EXP_2', 'IMP_1', 'IMP_2'], dtype='object')] are in the [columns]\"",
     "output_type": "error",
     "traceback": [
      "\u001b[1;31m---------------------------------------------------------------------------\u001b[0m",
      "\u001b[1;31mKeyError\u001b[0m                                  Traceback (most recent call last)",
      "Cell \u001b[1;32mIn[18], line 3\u001b[0m\n\u001b[0;32m      1\u001b[0m \u001b[38;5;66;03m# Attitudes\u001b[39;00m\n\u001b[0;32m      2\u001b[0m attitude_questions \u001b[38;5;241m=\u001b[39m [\u001b[38;5;124m'\u001b[39m\u001b[38;5;124mEXP_1\u001b[39m\u001b[38;5;124m'\u001b[39m, \u001b[38;5;124m'\u001b[39m\u001b[38;5;124mEXP_2\u001b[39m\u001b[38;5;124m'\u001b[39m, \u001b[38;5;124m'\u001b[39m\u001b[38;5;124mIMP_1\u001b[39m\u001b[38;5;124m'\u001b[39m, \u001b[38;5;124m'\u001b[39m\u001b[38;5;124mIMP_2\u001b[39m\u001b[38;5;124m'\u001b[39m]\n\u001b[1;32m----> 3\u001b[0m data[\u001b[38;5;124m'\u001b[39m\u001b[38;5;124mattitude_score\u001b[39m\u001b[38;5;124m'\u001b[39m] \u001b[38;5;241m=\u001b[39m data[attitude_questions]\u001b[38;5;241m.\u001b[39mmean(axis\u001b[38;5;241m=\u001b[39m\u001b[38;5;241m1\u001b[39m)\n\u001b[0;32m      5\u001b[0m \u001b[38;5;66;03m# Norms\u001b[39;00m\n\u001b[0;32m      6\u001b[0m norms_questions \u001b[38;5;241m=\u001b[39m [\u001b[38;5;124m'\u001b[39m\u001b[38;5;124mRES_1\u001b[39m\u001b[38;5;124m'\u001b[39m, \u001b[38;5;124m'\u001b[39m\u001b[38;5;124mRES_2\u001b[39m\u001b[38;5;124m'\u001b[39m, \u001b[38;5;124m'\u001b[39m\u001b[38;5;124mRES_3\u001b[39m\u001b[38;5;124m'\u001b[39m, \u001b[38;5;124m'\u001b[39m\u001b[38;5;124mRES_4\u001b[39m\u001b[38;5;124m'\u001b[39m, \u001b[38;5;124m'\u001b[39m\u001b[38;5;124mFOOBE_1\u001b[39m\u001b[38;5;124m'\u001b[39m, \u001b[38;5;124m'\u001b[39m\u001b[38;5;124mFOOBE_3\u001b[39m\u001b[38;5;124m'\u001b[39m, \u001b[38;5;124m'\u001b[39m\u001b[38;5;124mFOOBE_4\u001b[39m\u001b[38;5;124m'\u001b[39m, \u001b[38;5;124m'\u001b[39m\u001b[38;5;124mFOOBE_5\u001b[39m\u001b[38;5;124m'\u001b[39m, \u001b[38;5;124m'\u001b[39m\u001b[38;5;124mFOOBE_9\u001b[39m\u001b[38;5;124m'\u001b[39m, \u001b[38;5;124m'\u001b[39m\u001b[38;5;124mNEP_1\u001b[39m\u001b[38;5;124m'\u001b[39m, \u001b[38;5;124m'\u001b[39m\u001b[38;5;124mNEP_2\u001b[39m\u001b[38;5;124m'\u001b[39m, \u001b[38;5;124m'\u001b[39m\u001b[38;5;124mNEP_3\u001b[39m\u001b[38;5;124m'\u001b[39m, \u001b[38;5;124m'\u001b[39m\u001b[38;5;124mSN_1\u001b[39m\u001b[38;5;124m'\u001b[39m, \u001b[38;5;124m'\u001b[39m\u001b[38;5;124mSN_2\u001b[39m\u001b[38;5;124m'\u001b[39m]\n",
      "File \u001b[1;32m~\\anaconda3\\Lib\\site-packages\\pandas\\core\\frame.py:3902\u001b[0m, in \u001b[0;36mDataFrame.__getitem__\u001b[1;34m(self, key)\u001b[0m\n\u001b[0;32m   3900\u001b[0m     \u001b[38;5;28;01mif\u001b[39;00m is_iterator(key):\n\u001b[0;32m   3901\u001b[0m         key \u001b[38;5;241m=\u001b[39m \u001b[38;5;28mlist\u001b[39m(key)\n\u001b[1;32m-> 3902\u001b[0m     indexer \u001b[38;5;241m=\u001b[39m \u001b[38;5;28mself\u001b[39m\u001b[38;5;241m.\u001b[39mcolumns\u001b[38;5;241m.\u001b[39m_get_indexer_strict(key, \u001b[38;5;124m\"\u001b[39m\u001b[38;5;124mcolumns\u001b[39m\u001b[38;5;124m\"\u001b[39m)[\u001b[38;5;241m1\u001b[39m]\n\u001b[0;32m   3904\u001b[0m \u001b[38;5;66;03m# take() does not accept boolean indexers\u001b[39;00m\n\u001b[0;32m   3905\u001b[0m \u001b[38;5;28;01mif\u001b[39;00m \u001b[38;5;28mgetattr\u001b[39m(indexer, \u001b[38;5;124m\"\u001b[39m\u001b[38;5;124mdtype\u001b[39m\u001b[38;5;124m\"\u001b[39m, \u001b[38;5;28;01mNone\u001b[39;00m) \u001b[38;5;241m==\u001b[39m \u001b[38;5;28mbool\u001b[39m:\n",
      "File \u001b[1;32m~\\anaconda3\\Lib\\site-packages\\pandas\\core\\indexes\\base.py:6114\u001b[0m, in \u001b[0;36mIndex._get_indexer_strict\u001b[1;34m(self, key, axis_name)\u001b[0m\n\u001b[0;32m   6111\u001b[0m \u001b[38;5;28;01melse\u001b[39;00m:\n\u001b[0;32m   6112\u001b[0m     keyarr, indexer, new_indexer \u001b[38;5;241m=\u001b[39m \u001b[38;5;28mself\u001b[39m\u001b[38;5;241m.\u001b[39m_reindex_non_unique(keyarr)\n\u001b[1;32m-> 6114\u001b[0m \u001b[38;5;28mself\u001b[39m\u001b[38;5;241m.\u001b[39m_raise_if_missing(keyarr, indexer, axis_name)\n\u001b[0;32m   6116\u001b[0m keyarr \u001b[38;5;241m=\u001b[39m \u001b[38;5;28mself\u001b[39m\u001b[38;5;241m.\u001b[39mtake(indexer)\n\u001b[0;32m   6117\u001b[0m \u001b[38;5;28;01mif\u001b[39;00m \u001b[38;5;28misinstance\u001b[39m(key, Index):\n\u001b[0;32m   6118\u001b[0m     \u001b[38;5;66;03m# GH 42790 - Preserve name from an Index\u001b[39;00m\n",
      "File \u001b[1;32m~\\anaconda3\\Lib\\site-packages\\pandas\\core\\indexes\\base.py:6175\u001b[0m, in \u001b[0;36mIndex._raise_if_missing\u001b[1;34m(self, key, indexer, axis_name)\u001b[0m\n\u001b[0;32m   6173\u001b[0m     \u001b[38;5;28;01mif\u001b[39;00m use_interval_msg:\n\u001b[0;32m   6174\u001b[0m         key \u001b[38;5;241m=\u001b[39m \u001b[38;5;28mlist\u001b[39m(key)\n\u001b[1;32m-> 6175\u001b[0m     \u001b[38;5;28;01mraise\u001b[39;00m \u001b[38;5;167;01mKeyError\u001b[39;00m(\u001b[38;5;124mf\u001b[39m\u001b[38;5;124m\"\u001b[39m\u001b[38;5;124mNone of [\u001b[39m\u001b[38;5;132;01m{\u001b[39;00mkey\u001b[38;5;132;01m}\u001b[39;00m\u001b[38;5;124m] are in the [\u001b[39m\u001b[38;5;132;01m{\u001b[39;00maxis_name\u001b[38;5;132;01m}\u001b[39;00m\u001b[38;5;124m]\u001b[39m\u001b[38;5;124m\"\u001b[39m)\n\u001b[0;32m   6177\u001b[0m not_found \u001b[38;5;241m=\u001b[39m \u001b[38;5;28mlist\u001b[39m(ensure_index(key)[missing_mask\u001b[38;5;241m.\u001b[39mnonzero()[\u001b[38;5;241m0\u001b[39m]]\u001b[38;5;241m.\u001b[39munique())\n\u001b[0;32m   6178\u001b[0m \u001b[38;5;28;01mraise\u001b[39;00m \u001b[38;5;167;01mKeyError\u001b[39;00m(\u001b[38;5;124mf\u001b[39m\u001b[38;5;124m\"\u001b[39m\u001b[38;5;132;01m{\u001b[39;00mnot_found\u001b[38;5;132;01m}\u001b[39;00m\u001b[38;5;124m not in index\u001b[39m\u001b[38;5;124m\"\u001b[39m)\n",
      "\u001b[1;31mKeyError\u001b[0m: \"None of [Index(['EXP_1', 'EXP_2', 'IMP_1', 'IMP_2'], dtype='object')] are in the [columns]\""
     ]
    }
   ],
   "source": [
    "# Attitudes\n",
    "attitude_questions = ['EXP_1', 'EXP_2', 'IMP_1', 'IMP_2']\n",
    "data['attitude_score'] = data[attitude_questions].mean(axis=1)\n",
    "\n",
    "# Norms\n",
    "norms_questions = ['RES_1', 'RES_2', 'RES_3', 'RES_4', 'FOOBE_1', 'FOOBE_3', 'FOOBE_4', 'FOOBE_5', 'FOOBE_9', 'NEP_1', 'NEP_2', 'NEP_3', 'SN_1', 'SN_2']\n",
    "data['norms_score'] = data[norms_questions].mean(axis=1)\n",
    "\n",
    "# Self-Concept\n",
    "self_concept_questions = ['FAI_1', 'FAI_2', 'SR_1', 'SR_2', 'SC_1']\n",
    "data['self_concept_score'] = data[self_concept_questions].mean(axis=1)\n",
    "\n",
    "# Emotions\n",
    "emotions_questions = ['AFC_1', 'AFC_2']\n",
    "data['emotions_score'] = data[emotions_questions].mean(axis=1)\n",
    "\n",
    "# Habits\n",
    "habits_questions = ['TH_1', 'TH_2', 'TH_3']\n",
    "data['habits_score'] = data[habits_questions].mean(axis=1)\n",
    "\n",
    "# Facilitating Conditions (Knowledge)\n",
    "knowledge_questions = ['COPK_1', 'COPK_2', 'COPK_3', 'CLK_1', 'CLK_2', 'CLK_3']\n",
    "data['knowledge_score'] = data[knowledge_questions].mean(axis=1)\n",
    "\n",
    "# Facilitating Conditions (Information)\n",
    "information_questions = ['INF_1', 'INF_2', 'INF_3', 'INF_4']\n",
    "data['information_score'] = data[information_questions].mean(axis=1)\n",
    "\n",
    "# Dropping the original questions\n",
    "original_questions = attitude_questions + norms_questions + self_concept_questions + emotions_questions + habits_questions + knowledge_questions + information_questions\n",
    "data = data.drop(original_questions, axis=1)"
   ]
  },
  {
   "cell_type": "code",
   "execution_count": 19,
   "id": "c957d709",
   "metadata": {},
   "outputs": [
    {
     "ename": "KeyError",
     "evalue": "\"None of [Index(['EXP_1', 'EXP_2', 'IMP_1', 'IMP_2'], dtype='object')] are in the [columns]\"",
     "output_type": "error",
     "traceback": [
      "\u001b[1;31m---------------------------------------------------------------------------\u001b[0m",
      "\u001b[1;31mKeyError\u001b[0m                                  Traceback (most recent call last)",
      "Cell \u001b[1;32mIn[19], line 3\u001b[0m\n\u001b[0;32m      1\u001b[0m \u001b[38;5;66;03m# Attitudes\u001b[39;00m\n\u001b[0;32m      2\u001b[0m attitude_questions \u001b[38;5;241m=\u001b[39m [\u001b[38;5;124m'\u001b[39m\u001b[38;5;124mEXP_1\u001b[39m\u001b[38;5;124m'\u001b[39m, \u001b[38;5;124m'\u001b[39m\u001b[38;5;124mEXP_2\u001b[39m\u001b[38;5;124m'\u001b[39m, \u001b[38;5;124m'\u001b[39m\u001b[38;5;124mIMP_1\u001b[39m\u001b[38;5;124m'\u001b[39m, \u001b[38;5;124m'\u001b[39m\u001b[38;5;124mIMP_2\u001b[39m\u001b[38;5;124m'\u001b[39m]\n\u001b[1;32m----> 3\u001b[0m data[\u001b[38;5;124m'\u001b[39m\u001b[38;5;124mattitude_score\u001b[39m\u001b[38;5;124m'\u001b[39m] \u001b[38;5;241m=\u001b[39m data[attitude_questions]\u001b[38;5;241m.\u001b[39mmean(axis\u001b[38;5;241m=\u001b[39m\u001b[38;5;241m1\u001b[39m)\n",
      "File \u001b[1;32m~\\anaconda3\\Lib\\site-packages\\pandas\\core\\frame.py:3902\u001b[0m, in \u001b[0;36mDataFrame.__getitem__\u001b[1;34m(self, key)\u001b[0m\n\u001b[0;32m   3900\u001b[0m     \u001b[38;5;28;01mif\u001b[39;00m is_iterator(key):\n\u001b[0;32m   3901\u001b[0m         key \u001b[38;5;241m=\u001b[39m \u001b[38;5;28mlist\u001b[39m(key)\n\u001b[1;32m-> 3902\u001b[0m     indexer \u001b[38;5;241m=\u001b[39m \u001b[38;5;28mself\u001b[39m\u001b[38;5;241m.\u001b[39mcolumns\u001b[38;5;241m.\u001b[39m_get_indexer_strict(key, \u001b[38;5;124m\"\u001b[39m\u001b[38;5;124mcolumns\u001b[39m\u001b[38;5;124m\"\u001b[39m)[\u001b[38;5;241m1\u001b[39m]\n\u001b[0;32m   3904\u001b[0m \u001b[38;5;66;03m# take() does not accept boolean indexers\u001b[39;00m\n\u001b[0;32m   3905\u001b[0m \u001b[38;5;28;01mif\u001b[39;00m \u001b[38;5;28mgetattr\u001b[39m(indexer, \u001b[38;5;124m\"\u001b[39m\u001b[38;5;124mdtype\u001b[39m\u001b[38;5;124m\"\u001b[39m, \u001b[38;5;28;01mNone\u001b[39;00m) \u001b[38;5;241m==\u001b[39m \u001b[38;5;28mbool\u001b[39m:\n",
      "File \u001b[1;32m~\\anaconda3\\Lib\\site-packages\\pandas\\core\\indexes\\base.py:6114\u001b[0m, in \u001b[0;36mIndex._get_indexer_strict\u001b[1;34m(self, key, axis_name)\u001b[0m\n\u001b[0;32m   6111\u001b[0m \u001b[38;5;28;01melse\u001b[39;00m:\n\u001b[0;32m   6112\u001b[0m     keyarr, indexer, new_indexer \u001b[38;5;241m=\u001b[39m \u001b[38;5;28mself\u001b[39m\u001b[38;5;241m.\u001b[39m_reindex_non_unique(keyarr)\n\u001b[1;32m-> 6114\u001b[0m \u001b[38;5;28mself\u001b[39m\u001b[38;5;241m.\u001b[39m_raise_if_missing(keyarr, indexer, axis_name)\n\u001b[0;32m   6116\u001b[0m keyarr \u001b[38;5;241m=\u001b[39m \u001b[38;5;28mself\u001b[39m\u001b[38;5;241m.\u001b[39mtake(indexer)\n\u001b[0;32m   6117\u001b[0m \u001b[38;5;28;01mif\u001b[39;00m \u001b[38;5;28misinstance\u001b[39m(key, Index):\n\u001b[0;32m   6118\u001b[0m     \u001b[38;5;66;03m# GH 42790 - Preserve name from an Index\u001b[39;00m\n",
      "File \u001b[1;32m~\\anaconda3\\Lib\\site-packages\\pandas\\core\\indexes\\base.py:6175\u001b[0m, in \u001b[0;36mIndex._raise_if_missing\u001b[1;34m(self, key, indexer, axis_name)\u001b[0m\n\u001b[0;32m   6173\u001b[0m     \u001b[38;5;28;01mif\u001b[39;00m use_interval_msg:\n\u001b[0;32m   6174\u001b[0m         key \u001b[38;5;241m=\u001b[39m \u001b[38;5;28mlist\u001b[39m(key)\n\u001b[1;32m-> 6175\u001b[0m     \u001b[38;5;28;01mraise\u001b[39;00m \u001b[38;5;167;01mKeyError\u001b[39;00m(\u001b[38;5;124mf\u001b[39m\u001b[38;5;124m\"\u001b[39m\u001b[38;5;124mNone of [\u001b[39m\u001b[38;5;132;01m{\u001b[39;00mkey\u001b[38;5;132;01m}\u001b[39;00m\u001b[38;5;124m] are in the [\u001b[39m\u001b[38;5;132;01m{\u001b[39;00maxis_name\u001b[38;5;132;01m}\u001b[39;00m\u001b[38;5;124m]\u001b[39m\u001b[38;5;124m\"\u001b[39m)\n\u001b[0;32m   6177\u001b[0m not_found \u001b[38;5;241m=\u001b[39m \u001b[38;5;28mlist\u001b[39m(ensure_index(key)[missing_mask\u001b[38;5;241m.\u001b[39mnonzero()[\u001b[38;5;241m0\u001b[39m]]\u001b[38;5;241m.\u001b[39munique())\n\u001b[0;32m   6178\u001b[0m \u001b[38;5;28;01mraise\u001b[39;00m \u001b[38;5;167;01mKeyError\u001b[39;00m(\u001b[38;5;124mf\u001b[39m\u001b[38;5;124m\"\u001b[39m\u001b[38;5;132;01m{\u001b[39;00mnot_found\u001b[38;5;132;01m}\u001b[39;00m\u001b[38;5;124m not in index\u001b[39m\u001b[38;5;124m\"\u001b[39m)\n",
      "\u001b[1;31mKeyError\u001b[0m: \"None of [Index(['EXP_1', 'EXP_2', 'IMP_1', 'IMP_2'], dtype='object')] are in the [columns]\""
     ]
    }
   ],
   "source": [
    "# Attitudes\n",
    "attitude_questions = ['EXP_1', 'EXP_2', 'IMP_1', 'IMP_2']\n",
    "data['attitude_score'] = data[attitude_questions].mean(axis=1)"
   ]
  },
  {
   "cell_type": "code",
   "execution_count": 20,
   "id": "295234bf",
   "metadata": {},
   "outputs": [
    {
     "name": "stdout",
     "output_type": "stream",
     "text": [
      "   RES_1  RES_2  RES_3  RES_4  FOOBE_1  FOOBE_3  FOOBE_4  FOOBE_5  FOOBE_9  \\\n",
      "0      2      3      6      6        6        7        7        6        6   \n",
      "1      5      2      3      3        7        7        1        4        6   \n",
      "2      5      3      4      5        6        6        6        6        6   \n",
      "3      7      1      5      3        7        7        6        7        5   \n",
      "4      5      3      4      4        4        5        1        4        1   \n",
      "\n",
      "   NEP_1  ...  INF_3  INF_4  AGE  GEN  DIS  EDU  CWS  HHI  C4  attitude_score  \n",
      "0      5  ...      1      2    1    1    2    4    1    8   1            5.75  \n",
      "1      1  ...      3      3    6    1    2    5    6    6   1            5.25  \n",
      "2      3  ...      3      4    6    1    2    4    6    3   3            5.00  \n",
      "3      3  ...      4      4    2    2    3    5    3    4   2            7.00  \n",
      "4      4  ...      1      1    4    1    1    4    2    4   1            4.75  \n",
      "\n",
      "[5 rows x 42 columns]\n"
     ]
    }
   ],
   "source": [
    "print(data.head())"
   ]
  },
  {
   "cell_type": "code",
   "execution_count": 21,
   "id": "e1dc1f88",
   "metadata": {},
   "outputs": [
    {
     "name": "stdout",
     "output_type": "stream",
     "text": [
      "[\"'RES_1'\", \"'RES_2'\", \"'RES_3'\", \"'RES_4'\", \"'FOOBE_1'\", \"'FOOBE_3'\", \"'FOOBE_4'\", \"'FOOBE_5'\", \"'FOOBE_9'\", \"'NEP_1'\", \"'NEP_2'\", \"'NEP_3'\", \"'SN_1'\", \"'SN_2'\", \"'FAI_1'\", \"'FAI_2'\", \"'SR_1'\", \"'SR_2'\", \"'SC_1'\", \"'AFC_1'\", \"'AFC_2'\", \"'TH_1'\", \"'TH_2'\", \"'TH_3'\", \"'COPK_1'\", \"'COPK_2'\", \"'COPK_3'\", \"'CLK_1'\", \"'CLK_2'\", \"'CLK_3'\", \"'INF_1'\", \"'INF_2'\", \"'INF_3'\", \"'INF_4'\", \"'AGE'\", \"'GEN'\", \"'DIS'\", \"'EDU'\", \"'CWS'\", \"'HHI'\", \"'C4'\", \"'attitude_score'\"]\n"
     ]
    }
   ],
   "source": [
    "print([\"'\" + col + \"'\" for col in data.columns])"
   ]
  },
  {
   "cell_type": "code",
   "execution_count": 22,
   "id": "4cc70fe1",
   "metadata": {},
   "outputs": [
    {
     "ename": "KeyError",
     "evalue": "\"None of [Index(['EXP_1', 'EXP_2', 'IMP_1', 'IMP_2'], dtype='object')] are in the [columns]\"",
     "output_type": "error",
     "traceback": [
      "\u001b[1;31m---------------------------------------------------------------------------\u001b[0m",
      "\u001b[1;31mKeyError\u001b[0m                                  Traceback (most recent call last)",
      "Cell \u001b[1;32mIn[22], line 1\u001b[0m\n\u001b[1;32m----> 1\u001b[0m data[\u001b[38;5;124m'\u001b[39m\u001b[38;5;124mattitude_score\u001b[39m\u001b[38;5;124m'\u001b[39m] \u001b[38;5;241m=\u001b[39m data[[\u001b[38;5;124m'\u001b[39m\u001b[38;5;124mEXP_1\u001b[39m\u001b[38;5;124m'\u001b[39m, \u001b[38;5;124m'\u001b[39m\u001b[38;5;124mEXP_2\u001b[39m\u001b[38;5;124m'\u001b[39m, \u001b[38;5;124m'\u001b[39m\u001b[38;5;124mIMP_1\u001b[39m\u001b[38;5;124m'\u001b[39m, \u001b[38;5;124m'\u001b[39m\u001b[38;5;124mIMP_2\u001b[39m\u001b[38;5;124m'\u001b[39m]]\u001b[38;5;241m.\u001b[39mmean(axis\u001b[38;5;241m=\u001b[39m\u001b[38;5;241m1\u001b[39m)\n",
      "File \u001b[1;32m~\\anaconda3\\Lib\\site-packages\\pandas\\core\\frame.py:3902\u001b[0m, in \u001b[0;36mDataFrame.__getitem__\u001b[1;34m(self, key)\u001b[0m\n\u001b[0;32m   3900\u001b[0m     \u001b[38;5;28;01mif\u001b[39;00m is_iterator(key):\n\u001b[0;32m   3901\u001b[0m         key \u001b[38;5;241m=\u001b[39m \u001b[38;5;28mlist\u001b[39m(key)\n\u001b[1;32m-> 3902\u001b[0m     indexer \u001b[38;5;241m=\u001b[39m \u001b[38;5;28mself\u001b[39m\u001b[38;5;241m.\u001b[39mcolumns\u001b[38;5;241m.\u001b[39m_get_indexer_strict(key, \u001b[38;5;124m\"\u001b[39m\u001b[38;5;124mcolumns\u001b[39m\u001b[38;5;124m\"\u001b[39m)[\u001b[38;5;241m1\u001b[39m]\n\u001b[0;32m   3904\u001b[0m \u001b[38;5;66;03m# take() does not accept boolean indexers\u001b[39;00m\n\u001b[0;32m   3905\u001b[0m \u001b[38;5;28;01mif\u001b[39;00m \u001b[38;5;28mgetattr\u001b[39m(indexer, \u001b[38;5;124m\"\u001b[39m\u001b[38;5;124mdtype\u001b[39m\u001b[38;5;124m\"\u001b[39m, \u001b[38;5;28;01mNone\u001b[39;00m) \u001b[38;5;241m==\u001b[39m \u001b[38;5;28mbool\u001b[39m:\n",
      "File \u001b[1;32m~\\anaconda3\\Lib\\site-packages\\pandas\\core\\indexes\\base.py:6114\u001b[0m, in \u001b[0;36mIndex._get_indexer_strict\u001b[1;34m(self, key, axis_name)\u001b[0m\n\u001b[0;32m   6111\u001b[0m \u001b[38;5;28;01melse\u001b[39;00m:\n\u001b[0;32m   6112\u001b[0m     keyarr, indexer, new_indexer \u001b[38;5;241m=\u001b[39m \u001b[38;5;28mself\u001b[39m\u001b[38;5;241m.\u001b[39m_reindex_non_unique(keyarr)\n\u001b[1;32m-> 6114\u001b[0m \u001b[38;5;28mself\u001b[39m\u001b[38;5;241m.\u001b[39m_raise_if_missing(keyarr, indexer, axis_name)\n\u001b[0;32m   6116\u001b[0m keyarr \u001b[38;5;241m=\u001b[39m \u001b[38;5;28mself\u001b[39m\u001b[38;5;241m.\u001b[39mtake(indexer)\n\u001b[0;32m   6117\u001b[0m \u001b[38;5;28;01mif\u001b[39;00m \u001b[38;5;28misinstance\u001b[39m(key, Index):\n\u001b[0;32m   6118\u001b[0m     \u001b[38;5;66;03m# GH 42790 - Preserve name from an Index\u001b[39;00m\n",
      "File \u001b[1;32m~\\anaconda3\\Lib\\site-packages\\pandas\\core\\indexes\\base.py:6175\u001b[0m, in \u001b[0;36mIndex._raise_if_missing\u001b[1;34m(self, key, indexer, axis_name)\u001b[0m\n\u001b[0;32m   6173\u001b[0m     \u001b[38;5;28;01mif\u001b[39;00m use_interval_msg:\n\u001b[0;32m   6174\u001b[0m         key \u001b[38;5;241m=\u001b[39m \u001b[38;5;28mlist\u001b[39m(key)\n\u001b[1;32m-> 6175\u001b[0m     \u001b[38;5;28;01mraise\u001b[39;00m \u001b[38;5;167;01mKeyError\u001b[39;00m(\u001b[38;5;124mf\u001b[39m\u001b[38;5;124m\"\u001b[39m\u001b[38;5;124mNone of [\u001b[39m\u001b[38;5;132;01m{\u001b[39;00mkey\u001b[38;5;132;01m}\u001b[39;00m\u001b[38;5;124m] are in the [\u001b[39m\u001b[38;5;132;01m{\u001b[39;00maxis_name\u001b[38;5;132;01m}\u001b[39;00m\u001b[38;5;124m]\u001b[39m\u001b[38;5;124m\"\u001b[39m)\n\u001b[0;32m   6177\u001b[0m not_found \u001b[38;5;241m=\u001b[39m \u001b[38;5;28mlist\u001b[39m(ensure_index(key)[missing_mask\u001b[38;5;241m.\u001b[39mnonzero()[\u001b[38;5;241m0\u001b[39m]]\u001b[38;5;241m.\u001b[39munique())\n\u001b[0;32m   6178\u001b[0m \u001b[38;5;28;01mraise\u001b[39;00m \u001b[38;5;167;01mKeyError\u001b[39;00m(\u001b[38;5;124mf\u001b[39m\u001b[38;5;124m\"\u001b[39m\u001b[38;5;132;01m{\u001b[39;00mnot_found\u001b[38;5;132;01m}\u001b[39;00m\u001b[38;5;124m not in index\u001b[39m\u001b[38;5;124m\"\u001b[39m)\n",
      "\u001b[1;31mKeyError\u001b[0m: \"None of [Index(['EXP_1', 'EXP_2', 'IMP_1', 'IMP_2'], dtype='object')] are in the [columns]\""
     ]
    }
   ],
   "source": [
    "data['attitude_score'] = data[['EXP_1', 'EXP_2', 'IMP_1', 'IMP_2']].mean(axis=1)"
   ]
  },
  {
   "cell_type": "code",
   "execution_count": 23,
   "id": "421f288b",
   "metadata": {},
   "outputs": [
    {
     "name": "stdout",
     "output_type": "stream",
     "text": [
      "['RES_1', 'RES_2', 'RES_3', 'RES_4', 'FOOBE_1', 'FOOBE_3', 'FOOBE_4', 'FOOBE_5', 'FOOBE_9', 'NEP_1', 'NEP_2', 'NEP_3', 'SN_1', 'SN_2']\n"
     ]
    }
   ],
   "source": [
    "# Checking if the columns for the 'norms' category are still in the DataFrame\n",
    "norms_questions = ['RES_1', 'RES_2', 'RES_3', 'RES_4', 'FOOBE_1', 'FOOBE_3', 'FOOBE_4', 'FOOBE_5', 'FOOBE_9', 'NEP_1', 'NEP_2', 'NEP_3', 'SN_1', 'SN_2']\n",
    "print([col for col in norms_questions if col in data.columns])"
   ]
  },
  {
   "cell_type": "code",
   "execution_count": 24,
   "id": "38b63217",
   "metadata": {},
   "outputs": [],
   "source": [
    "# Only execute this if the norms_questions columns are present\n",
    "if all(col in data.columns for col in norms_questions):\n",
    "    data['norms_score'] = data[norms_questions].mean(axis=1)\n",
    "    data = data.drop(norms_questions, axis=1)"
   ]
  },
  {
   "cell_type": "code",
   "execution_count": 25,
   "id": "594f4868",
   "metadata": {},
   "outputs": [],
   "source": [
    "# Self-Concept\n",
    "self_concept_questions = ['FAI_1', 'FAI_2', 'SR_1', 'SR_2', 'SC_1']\n",
    "if all(col in data.columns for col in self_concept_questions):\n",
    "    data['self_concept_score'] = data[self_concept_questions].mean(axis=1)\n",
    "    data = data.drop(self_concept_questions, axis=1)\n",
    "\n",
    "# Emotions\n",
    "emotions_questions = ['AFC_1', 'AFC_2']\n",
    "if all(col in data.columns for col in emotions_questions):\n",
    "    data['emotions_score'] = data[emotions_questions].mean(axis=1)\n",
    "    data = data.drop(emotions_questions, axis=1)\n",
    "\n",
    "# Habits\n",
    "habits_questions = ['TH_1', 'TH_2', 'TH_3']\n",
    "if all(col in data.columns for col in habits_questions):\n",
    "    data['habits_score'] = data[habits_questions].mean(axis=1)\n",
    "    data = data.drop(habits_questions, axis=1)\n",
    "\n",
    "# Facilitating Conditions (Knowledge)\n",
    "knowledge_questions = ['COPK_1', 'COPK_2', 'COPK_3', 'CLK_1', 'CLK_2', 'CLK_3']\n",
    "if all(col in data.columns for col in knowledge_questions):\n",
    "    data['knowledge_score'] = data[knowledge_questions].mean(axis=1)\n",
    "    data = data.drop(knowledge_questions, axis=1)\n",
    "\n",
    "# Facilitating Conditions (Information)\n",
    "information_questions = ['INF_1', 'INF_2', 'INF_3', 'INF_4']\n",
    "if all(col in data.columns for col in information_questions):\n",
    "    data['information_score'] = data[information_questions].mean(axis=1)\n",
    "    data = data.drop(information_questions, axis=1)"
   ]
  },
  {
   "cell_type": "code",
   "execution_count": 26,
   "id": "76f1b965",
   "metadata": {},
   "outputs": [],
   "source": [
    "from sklearn.compose import ColumnTransformer\n",
    "from sklearn.preprocessing import StandardScaler, OneHotEncoder\n",
    "from sklearn.pipeline import Pipeline\n",
    "from sklearn.ensemble import RandomForestClassifier\n",
    "from sklearn.model_selection import train_test_split\n",
    "\n",
    "# Identify numerical and categorical columns\n",
    "numerical_cols = ['attitude_score', 'norms_score', 'self_concept_score', 'emotions_score', 'habits_score', 'knowledge_score', 'information_score']\n",
    "categorical_cols = [col for col in data.columns if col not in numerical_cols + ['C4']]\n",
    "\n",
    "# Create the column transformer\n",
    "preprocessor = ColumnTransformer(\n",
    "    transformers=[\n",
    "        ('num', StandardScaler(), numerical_cols),\n",
    "        ('cat', OneHotEncoder(), categorical_cols)\n",
    "    ])\n",
    "\n",
    "# Create a pipeline\n",
    "pipeline = Pipeline([\n",
    "    ('preprocessor', preprocessor),\n",
    "    ('classifier', RandomForestClassifier(random_state=42))\n",
    "])"
   ]
  },
  {
   "cell_type": "code",
   "execution_count": 27,
   "id": "1842eeda",
   "metadata": {},
   "outputs": [],
   "source": [
    "# Define features and target\n",
    "X = data.drop('C4', axis=1)\n",
    "y = data['C4']\n",
    "\n",
    "# Split the data\n",
    "X_train, X_test, y_train, y_test = train_test_split(X, y, test_size=0.3, random_state=42)"
   ]
  },
  {
   "cell_type": "code",
   "execution_count": 28,
   "id": "726bcd8f",
   "metadata": {},
   "outputs": [
    {
     "data": {
      "text/html": [
       "<style>#sk-container-id-6 {color: black;}#sk-container-id-6 pre{padding: 0;}#sk-container-id-6 div.sk-toggleable {background-color: white;}#sk-container-id-6 label.sk-toggleable__label {cursor: pointer;display: block;width: 100%;margin-bottom: 0;padding: 0.3em;box-sizing: border-box;text-align: center;}#sk-container-id-6 label.sk-toggleable__label-arrow:before {content: \"▸\";float: left;margin-right: 0.25em;color: #696969;}#sk-container-id-6 label.sk-toggleable__label-arrow:hover:before {color: black;}#sk-container-id-6 div.sk-estimator:hover label.sk-toggleable__label-arrow:before {color: black;}#sk-container-id-6 div.sk-toggleable__content {max-height: 0;max-width: 0;overflow: hidden;text-align: left;background-color: #f0f8ff;}#sk-container-id-6 div.sk-toggleable__content pre {margin: 0.2em;color: black;border-radius: 0.25em;background-color: #f0f8ff;}#sk-container-id-6 input.sk-toggleable__control:checked~div.sk-toggleable__content {max-height: 200px;max-width: 100%;overflow: auto;}#sk-container-id-6 input.sk-toggleable__control:checked~label.sk-toggleable__label-arrow:before {content: \"▾\";}#sk-container-id-6 div.sk-estimator input.sk-toggleable__control:checked~label.sk-toggleable__label {background-color: #d4ebff;}#sk-container-id-6 div.sk-label input.sk-toggleable__control:checked~label.sk-toggleable__label {background-color: #d4ebff;}#sk-container-id-6 input.sk-hidden--visually {border: 0;clip: rect(1px 1px 1px 1px);clip: rect(1px, 1px, 1px, 1px);height: 1px;margin: -1px;overflow: hidden;padding: 0;position: absolute;width: 1px;}#sk-container-id-6 div.sk-estimator {font-family: monospace;background-color: #f0f8ff;border: 1px dotted black;border-radius: 0.25em;box-sizing: border-box;margin-bottom: 0.5em;}#sk-container-id-6 div.sk-estimator:hover {background-color: #d4ebff;}#sk-container-id-6 div.sk-parallel-item::after {content: \"\";width: 100%;border-bottom: 1px solid gray;flex-grow: 1;}#sk-container-id-6 div.sk-label:hover label.sk-toggleable__label {background-color: #d4ebff;}#sk-container-id-6 div.sk-serial::before {content: \"\";position: absolute;border-left: 1px solid gray;box-sizing: border-box;top: 0;bottom: 0;left: 50%;z-index: 0;}#sk-container-id-6 div.sk-serial {display: flex;flex-direction: column;align-items: center;background-color: white;padding-right: 0.2em;padding-left: 0.2em;position: relative;}#sk-container-id-6 div.sk-item {position: relative;z-index: 1;}#sk-container-id-6 div.sk-parallel {display: flex;align-items: stretch;justify-content: center;background-color: white;position: relative;}#sk-container-id-6 div.sk-item::before, #sk-container-id-6 div.sk-parallel-item::before {content: \"\";position: absolute;border-left: 1px solid gray;box-sizing: border-box;top: 0;bottom: 0;left: 50%;z-index: -1;}#sk-container-id-6 div.sk-parallel-item {display: flex;flex-direction: column;z-index: 1;position: relative;background-color: white;}#sk-container-id-6 div.sk-parallel-item:first-child::after {align-self: flex-end;width: 50%;}#sk-container-id-6 div.sk-parallel-item:last-child::after {align-self: flex-start;width: 50%;}#sk-container-id-6 div.sk-parallel-item:only-child::after {width: 0;}#sk-container-id-6 div.sk-dashed-wrapped {border: 1px dashed gray;margin: 0 0.4em 0.5em 0.4em;box-sizing: border-box;padding-bottom: 0.4em;background-color: white;}#sk-container-id-6 div.sk-label label {font-family: monospace;font-weight: bold;display: inline-block;line-height: 1.2em;}#sk-container-id-6 div.sk-label-container {text-align: center;}#sk-container-id-6 div.sk-container {/* jupyter's `normalize.less` sets `[hidden] { display: none; }` but bootstrap.min.css set `[hidden] { display: none !important; }` so we also need the `!important` here to be able to override the default hidden behavior on the sphinx rendered scikit-learn.org. See: https://github.com/scikit-learn/scikit-learn/issues/21755 */display: inline-block !important;position: relative;}#sk-container-id-6 div.sk-text-repr-fallback {display: none;}</style><div id=\"sk-container-id-6\" class=\"sk-top-container\"><div class=\"sk-text-repr-fallback\"><pre>Pipeline(steps=[(&#x27;preprocessor&#x27;,\n",
       "                 ColumnTransformer(transformers=[(&#x27;num&#x27;, StandardScaler(),\n",
       "                                                  [&#x27;attitude_score&#x27;,\n",
       "                                                   &#x27;norms_score&#x27;,\n",
       "                                                   &#x27;self_concept_score&#x27;,\n",
       "                                                   &#x27;emotions_score&#x27;,\n",
       "                                                   &#x27;habits_score&#x27;,\n",
       "                                                   &#x27;knowledge_score&#x27;,\n",
       "                                                   &#x27;information_score&#x27;]),\n",
       "                                                 (&#x27;cat&#x27;, OneHotEncoder(),\n",
       "                                                  [&#x27;AGE&#x27;, &#x27;GEN&#x27;, &#x27;DIS&#x27;, &#x27;EDU&#x27;,\n",
       "                                                   &#x27;CWS&#x27;, &#x27;HHI&#x27;])])),\n",
       "                (&#x27;classifier&#x27;, RandomForestClassifier(random_state=42))])</pre><b>In a Jupyter environment, please rerun this cell to show the HTML representation or trust the notebook. <br />On GitHub, the HTML representation is unable to render, please try loading this page with nbviewer.org.</b></div><div class=\"sk-container\" hidden><div class=\"sk-item sk-dashed-wrapped\"><div class=\"sk-label-container\"><div class=\"sk-label sk-toggleable\"><input class=\"sk-toggleable__control sk-hidden--visually\" id=\"sk-estimator-id-36\" type=\"checkbox\" ><label for=\"sk-estimator-id-36\" class=\"sk-toggleable__label sk-toggleable__label-arrow\">Pipeline</label><div class=\"sk-toggleable__content\"><pre>Pipeline(steps=[(&#x27;preprocessor&#x27;,\n",
       "                 ColumnTransformer(transformers=[(&#x27;num&#x27;, StandardScaler(),\n",
       "                                                  [&#x27;attitude_score&#x27;,\n",
       "                                                   &#x27;norms_score&#x27;,\n",
       "                                                   &#x27;self_concept_score&#x27;,\n",
       "                                                   &#x27;emotions_score&#x27;,\n",
       "                                                   &#x27;habits_score&#x27;,\n",
       "                                                   &#x27;knowledge_score&#x27;,\n",
       "                                                   &#x27;information_score&#x27;]),\n",
       "                                                 (&#x27;cat&#x27;, OneHotEncoder(),\n",
       "                                                  [&#x27;AGE&#x27;, &#x27;GEN&#x27;, &#x27;DIS&#x27;, &#x27;EDU&#x27;,\n",
       "                                                   &#x27;CWS&#x27;, &#x27;HHI&#x27;])])),\n",
       "                (&#x27;classifier&#x27;, RandomForestClassifier(random_state=42))])</pre></div></div></div><div class=\"sk-serial\"><div class=\"sk-item sk-dashed-wrapped\"><div class=\"sk-label-container\"><div class=\"sk-label sk-toggleable\"><input class=\"sk-toggleable__control sk-hidden--visually\" id=\"sk-estimator-id-37\" type=\"checkbox\" ><label for=\"sk-estimator-id-37\" class=\"sk-toggleable__label sk-toggleable__label-arrow\">preprocessor: ColumnTransformer</label><div class=\"sk-toggleable__content\"><pre>ColumnTransformer(transformers=[(&#x27;num&#x27;, StandardScaler(),\n",
       "                                 [&#x27;attitude_score&#x27;, &#x27;norms_score&#x27;,\n",
       "                                  &#x27;self_concept_score&#x27;, &#x27;emotions_score&#x27;,\n",
       "                                  &#x27;habits_score&#x27;, &#x27;knowledge_score&#x27;,\n",
       "                                  &#x27;information_score&#x27;]),\n",
       "                                (&#x27;cat&#x27;, OneHotEncoder(),\n",
       "                                 [&#x27;AGE&#x27;, &#x27;GEN&#x27;, &#x27;DIS&#x27;, &#x27;EDU&#x27;, &#x27;CWS&#x27;, &#x27;HHI&#x27;])])</pre></div></div></div><div class=\"sk-parallel\"><div class=\"sk-parallel-item\"><div class=\"sk-item\"><div class=\"sk-label-container\"><div class=\"sk-label sk-toggleable\"><input class=\"sk-toggleable__control sk-hidden--visually\" id=\"sk-estimator-id-38\" type=\"checkbox\" ><label for=\"sk-estimator-id-38\" class=\"sk-toggleable__label sk-toggleable__label-arrow\">num</label><div class=\"sk-toggleable__content\"><pre>[&#x27;attitude_score&#x27;, &#x27;norms_score&#x27;, &#x27;self_concept_score&#x27;, &#x27;emotions_score&#x27;, &#x27;habits_score&#x27;, &#x27;knowledge_score&#x27;, &#x27;information_score&#x27;]</pre></div></div></div><div class=\"sk-serial\"><div class=\"sk-item\"><div class=\"sk-estimator sk-toggleable\"><input class=\"sk-toggleable__control sk-hidden--visually\" id=\"sk-estimator-id-39\" type=\"checkbox\" ><label for=\"sk-estimator-id-39\" class=\"sk-toggleable__label sk-toggleable__label-arrow\">StandardScaler</label><div class=\"sk-toggleable__content\"><pre>StandardScaler()</pre></div></div></div></div></div></div><div class=\"sk-parallel-item\"><div class=\"sk-item\"><div class=\"sk-label-container\"><div class=\"sk-label sk-toggleable\"><input class=\"sk-toggleable__control sk-hidden--visually\" id=\"sk-estimator-id-40\" type=\"checkbox\" ><label for=\"sk-estimator-id-40\" class=\"sk-toggleable__label sk-toggleable__label-arrow\">cat</label><div class=\"sk-toggleable__content\"><pre>[&#x27;AGE&#x27;, &#x27;GEN&#x27;, &#x27;DIS&#x27;, &#x27;EDU&#x27;, &#x27;CWS&#x27;, &#x27;HHI&#x27;]</pre></div></div></div><div class=\"sk-serial\"><div class=\"sk-item\"><div class=\"sk-estimator sk-toggleable\"><input class=\"sk-toggleable__control sk-hidden--visually\" id=\"sk-estimator-id-41\" type=\"checkbox\" ><label for=\"sk-estimator-id-41\" class=\"sk-toggleable__label sk-toggleable__label-arrow\">OneHotEncoder</label><div class=\"sk-toggleable__content\"><pre>OneHotEncoder()</pre></div></div></div></div></div></div></div></div><div class=\"sk-item\"><div class=\"sk-estimator sk-toggleable\"><input class=\"sk-toggleable__control sk-hidden--visually\" id=\"sk-estimator-id-42\" type=\"checkbox\" ><label for=\"sk-estimator-id-42\" class=\"sk-toggleable__label sk-toggleable__label-arrow\">RandomForestClassifier</label><div class=\"sk-toggleable__content\"><pre>RandomForestClassifier(random_state=42)</pre></div></div></div></div></div></div></div>"
      ],
      "text/plain": [
       "Pipeline(steps=[('preprocessor',\n",
       "                 ColumnTransformer(transformers=[('num', StandardScaler(),\n",
       "                                                  ['attitude_score',\n",
       "                                                   'norms_score',\n",
       "                                                   'self_concept_score',\n",
       "                                                   'emotions_score',\n",
       "                                                   'habits_score',\n",
       "                                                   'knowledge_score',\n",
       "                                                   'information_score']),\n",
       "                                                 ('cat', OneHotEncoder(),\n",
       "                                                  ['AGE', 'GEN', 'DIS', 'EDU',\n",
       "                                                   'CWS', 'HHI'])])),\n",
       "                ('classifier', RandomForestClassifier(random_state=42))])"
      ]
     },
     "execution_count": 28,
     "metadata": {},
     "output_type": "execute_result"
    }
   ],
   "source": [
    "pipeline.fit(X_train, y_train)"
   ]
  },
  {
   "cell_type": "code",
   "execution_count": 29,
   "id": "3375f776",
   "metadata": {},
   "outputs": [
    {
     "name": "stdout",
     "output_type": "stream",
     "text": [
      "              precision    recall  f1-score   support\n",
      "\n",
      "           1       0.54      0.81      0.65       161\n",
      "           2       0.67      0.04      0.07        54\n",
      "           3       0.44      0.31      0.36       100\n",
      "\n",
      "    accuracy                           0.52       315\n",
      "   macro avg       0.55      0.39      0.36       315\n",
      "weighted avg       0.53      0.52      0.46       315\n",
      "\n",
      "[[131   0  30]\n",
      " [ 43   2   9]\n",
      " [ 68   1  31]]\n"
     ]
    }
   ],
   "source": [
    "from sklearn.metrics import classification_report, confusion_matrix\n",
    "\n",
    "# Making predictions\n",
    "y_pred = pipeline.predict(X_test)\n",
    "\n",
    "# Evaluating the model\n",
    "print(classification_report(y_test, y_pred))\n",
    "print(confusion_matrix(y_test, y_pred))"
   ]
  },
  {
   "cell_type": "code",
   "execution_count": 30,
   "id": "1bc755ee",
   "metadata": {},
   "outputs": [],
   "source": [
    "# Combine classes 2 and 3 into a single class\n",
    "y_dummy = y.replace({3: 2})"
   ]
  },
  {
   "cell_type": "code",
   "execution_count": 31,
   "id": "00fc6b7b",
   "metadata": {},
   "outputs": [],
   "source": [
    "# Split the data with the modified target\n",
    "X_train_dummy, X_test_dummy, y_train_dummy, y_test_dummy = train_test_split(X, y_dummy, test_size=0.3, random_state=42)"
   ]
  },
  {
   "cell_type": "code",
   "execution_count": 32,
   "id": "625d7f0c",
   "metadata": {},
   "outputs": [
    {
     "data": {
      "text/html": [
       "<style>#sk-container-id-7 {color: black;}#sk-container-id-7 pre{padding: 0;}#sk-container-id-7 div.sk-toggleable {background-color: white;}#sk-container-id-7 label.sk-toggleable__label {cursor: pointer;display: block;width: 100%;margin-bottom: 0;padding: 0.3em;box-sizing: border-box;text-align: center;}#sk-container-id-7 label.sk-toggleable__label-arrow:before {content: \"▸\";float: left;margin-right: 0.25em;color: #696969;}#sk-container-id-7 label.sk-toggleable__label-arrow:hover:before {color: black;}#sk-container-id-7 div.sk-estimator:hover label.sk-toggleable__label-arrow:before {color: black;}#sk-container-id-7 div.sk-toggleable__content {max-height: 0;max-width: 0;overflow: hidden;text-align: left;background-color: #f0f8ff;}#sk-container-id-7 div.sk-toggleable__content pre {margin: 0.2em;color: black;border-radius: 0.25em;background-color: #f0f8ff;}#sk-container-id-7 input.sk-toggleable__control:checked~div.sk-toggleable__content {max-height: 200px;max-width: 100%;overflow: auto;}#sk-container-id-7 input.sk-toggleable__control:checked~label.sk-toggleable__label-arrow:before {content: \"▾\";}#sk-container-id-7 div.sk-estimator input.sk-toggleable__control:checked~label.sk-toggleable__label {background-color: #d4ebff;}#sk-container-id-7 div.sk-label input.sk-toggleable__control:checked~label.sk-toggleable__label {background-color: #d4ebff;}#sk-container-id-7 input.sk-hidden--visually {border: 0;clip: rect(1px 1px 1px 1px);clip: rect(1px, 1px, 1px, 1px);height: 1px;margin: -1px;overflow: hidden;padding: 0;position: absolute;width: 1px;}#sk-container-id-7 div.sk-estimator {font-family: monospace;background-color: #f0f8ff;border: 1px dotted black;border-radius: 0.25em;box-sizing: border-box;margin-bottom: 0.5em;}#sk-container-id-7 div.sk-estimator:hover {background-color: #d4ebff;}#sk-container-id-7 div.sk-parallel-item::after {content: \"\";width: 100%;border-bottom: 1px solid gray;flex-grow: 1;}#sk-container-id-7 div.sk-label:hover label.sk-toggleable__label {background-color: #d4ebff;}#sk-container-id-7 div.sk-serial::before {content: \"\";position: absolute;border-left: 1px solid gray;box-sizing: border-box;top: 0;bottom: 0;left: 50%;z-index: 0;}#sk-container-id-7 div.sk-serial {display: flex;flex-direction: column;align-items: center;background-color: white;padding-right: 0.2em;padding-left: 0.2em;position: relative;}#sk-container-id-7 div.sk-item {position: relative;z-index: 1;}#sk-container-id-7 div.sk-parallel {display: flex;align-items: stretch;justify-content: center;background-color: white;position: relative;}#sk-container-id-7 div.sk-item::before, #sk-container-id-7 div.sk-parallel-item::before {content: \"\";position: absolute;border-left: 1px solid gray;box-sizing: border-box;top: 0;bottom: 0;left: 50%;z-index: -1;}#sk-container-id-7 div.sk-parallel-item {display: flex;flex-direction: column;z-index: 1;position: relative;background-color: white;}#sk-container-id-7 div.sk-parallel-item:first-child::after {align-self: flex-end;width: 50%;}#sk-container-id-7 div.sk-parallel-item:last-child::after {align-self: flex-start;width: 50%;}#sk-container-id-7 div.sk-parallel-item:only-child::after {width: 0;}#sk-container-id-7 div.sk-dashed-wrapped {border: 1px dashed gray;margin: 0 0.4em 0.5em 0.4em;box-sizing: border-box;padding-bottom: 0.4em;background-color: white;}#sk-container-id-7 div.sk-label label {font-family: monospace;font-weight: bold;display: inline-block;line-height: 1.2em;}#sk-container-id-7 div.sk-label-container {text-align: center;}#sk-container-id-7 div.sk-container {/* jupyter's `normalize.less` sets `[hidden] { display: none; }` but bootstrap.min.css set `[hidden] { display: none !important; }` so we also need the `!important` here to be able to override the default hidden behavior on the sphinx rendered scikit-learn.org. See: https://github.com/scikit-learn/scikit-learn/issues/21755 */display: inline-block !important;position: relative;}#sk-container-id-7 div.sk-text-repr-fallback {display: none;}</style><div id=\"sk-container-id-7\" class=\"sk-top-container\"><div class=\"sk-text-repr-fallback\"><pre>Pipeline(steps=[(&#x27;preprocessor&#x27;,\n",
       "                 ColumnTransformer(transformers=[(&#x27;num&#x27;, StandardScaler(),\n",
       "                                                  [&#x27;attitude_score&#x27;,\n",
       "                                                   &#x27;norms_score&#x27;,\n",
       "                                                   &#x27;self_concept_score&#x27;,\n",
       "                                                   &#x27;emotions_score&#x27;,\n",
       "                                                   &#x27;habits_score&#x27;,\n",
       "                                                   &#x27;knowledge_score&#x27;,\n",
       "                                                   &#x27;information_score&#x27;]),\n",
       "                                                 (&#x27;cat&#x27;, OneHotEncoder(),\n",
       "                                                  [&#x27;AGE&#x27;, &#x27;GEN&#x27;, &#x27;DIS&#x27;, &#x27;EDU&#x27;,\n",
       "                                                   &#x27;CWS&#x27;, &#x27;HHI&#x27;])])),\n",
       "                (&#x27;classifier&#x27;, RandomForestClassifier(random_state=42))])</pre><b>In a Jupyter environment, please rerun this cell to show the HTML representation or trust the notebook. <br />On GitHub, the HTML representation is unable to render, please try loading this page with nbviewer.org.</b></div><div class=\"sk-container\" hidden><div class=\"sk-item sk-dashed-wrapped\"><div class=\"sk-label-container\"><div class=\"sk-label sk-toggleable\"><input class=\"sk-toggleable__control sk-hidden--visually\" id=\"sk-estimator-id-43\" type=\"checkbox\" ><label for=\"sk-estimator-id-43\" class=\"sk-toggleable__label sk-toggleable__label-arrow\">Pipeline</label><div class=\"sk-toggleable__content\"><pre>Pipeline(steps=[(&#x27;preprocessor&#x27;,\n",
       "                 ColumnTransformer(transformers=[(&#x27;num&#x27;, StandardScaler(),\n",
       "                                                  [&#x27;attitude_score&#x27;,\n",
       "                                                   &#x27;norms_score&#x27;,\n",
       "                                                   &#x27;self_concept_score&#x27;,\n",
       "                                                   &#x27;emotions_score&#x27;,\n",
       "                                                   &#x27;habits_score&#x27;,\n",
       "                                                   &#x27;knowledge_score&#x27;,\n",
       "                                                   &#x27;information_score&#x27;]),\n",
       "                                                 (&#x27;cat&#x27;, OneHotEncoder(),\n",
       "                                                  [&#x27;AGE&#x27;, &#x27;GEN&#x27;, &#x27;DIS&#x27;, &#x27;EDU&#x27;,\n",
       "                                                   &#x27;CWS&#x27;, &#x27;HHI&#x27;])])),\n",
       "                (&#x27;classifier&#x27;, RandomForestClassifier(random_state=42))])</pre></div></div></div><div class=\"sk-serial\"><div class=\"sk-item sk-dashed-wrapped\"><div class=\"sk-label-container\"><div class=\"sk-label sk-toggleable\"><input class=\"sk-toggleable__control sk-hidden--visually\" id=\"sk-estimator-id-44\" type=\"checkbox\" ><label for=\"sk-estimator-id-44\" class=\"sk-toggleable__label sk-toggleable__label-arrow\">preprocessor: ColumnTransformer</label><div class=\"sk-toggleable__content\"><pre>ColumnTransformer(transformers=[(&#x27;num&#x27;, StandardScaler(),\n",
       "                                 [&#x27;attitude_score&#x27;, &#x27;norms_score&#x27;,\n",
       "                                  &#x27;self_concept_score&#x27;, &#x27;emotions_score&#x27;,\n",
       "                                  &#x27;habits_score&#x27;, &#x27;knowledge_score&#x27;,\n",
       "                                  &#x27;information_score&#x27;]),\n",
       "                                (&#x27;cat&#x27;, OneHotEncoder(),\n",
       "                                 [&#x27;AGE&#x27;, &#x27;GEN&#x27;, &#x27;DIS&#x27;, &#x27;EDU&#x27;, &#x27;CWS&#x27;, &#x27;HHI&#x27;])])</pre></div></div></div><div class=\"sk-parallel\"><div class=\"sk-parallel-item\"><div class=\"sk-item\"><div class=\"sk-label-container\"><div class=\"sk-label sk-toggleable\"><input class=\"sk-toggleable__control sk-hidden--visually\" id=\"sk-estimator-id-45\" type=\"checkbox\" ><label for=\"sk-estimator-id-45\" class=\"sk-toggleable__label sk-toggleable__label-arrow\">num</label><div class=\"sk-toggleable__content\"><pre>[&#x27;attitude_score&#x27;, &#x27;norms_score&#x27;, &#x27;self_concept_score&#x27;, &#x27;emotions_score&#x27;, &#x27;habits_score&#x27;, &#x27;knowledge_score&#x27;, &#x27;information_score&#x27;]</pre></div></div></div><div class=\"sk-serial\"><div class=\"sk-item\"><div class=\"sk-estimator sk-toggleable\"><input class=\"sk-toggleable__control sk-hidden--visually\" id=\"sk-estimator-id-46\" type=\"checkbox\" ><label for=\"sk-estimator-id-46\" class=\"sk-toggleable__label sk-toggleable__label-arrow\">StandardScaler</label><div class=\"sk-toggleable__content\"><pre>StandardScaler()</pre></div></div></div></div></div></div><div class=\"sk-parallel-item\"><div class=\"sk-item\"><div class=\"sk-label-container\"><div class=\"sk-label sk-toggleable\"><input class=\"sk-toggleable__control sk-hidden--visually\" id=\"sk-estimator-id-47\" type=\"checkbox\" ><label for=\"sk-estimator-id-47\" class=\"sk-toggleable__label sk-toggleable__label-arrow\">cat</label><div class=\"sk-toggleable__content\"><pre>[&#x27;AGE&#x27;, &#x27;GEN&#x27;, &#x27;DIS&#x27;, &#x27;EDU&#x27;, &#x27;CWS&#x27;, &#x27;HHI&#x27;]</pre></div></div></div><div class=\"sk-serial\"><div class=\"sk-item\"><div class=\"sk-estimator sk-toggleable\"><input class=\"sk-toggleable__control sk-hidden--visually\" id=\"sk-estimator-id-48\" type=\"checkbox\" ><label for=\"sk-estimator-id-48\" class=\"sk-toggleable__label sk-toggleable__label-arrow\">OneHotEncoder</label><div class=\"sk-toggleable__content\"><pre>OneHotEncoder()</pre></div></div></div></div></div></div></div></div><div class=\"sk-item\"><div class=\"sk-estimator sk-toggleable\"><input class=\"sk-toggleable__control sk-hidden--visually\" id=\"sk-estimator-id-49\" type=\"checkbox\" ><label for=\"sk-estimator-id-49\" class=\"sk-toggleable__label sk-toggleable__label-arrow\">RandomForestClassifier</label><div class=\"sk-toggleable__content\"><pre>RandomForestClassifier(random_state=42)</pre></div></div></div></div></div></div></div>"
      ],
      "text/plain": [
       "Pipeline(steps=[('preprocessor',\n",
       "                 ColumnTransformer(transformers=[('num', StandardScaler(),\n",
       "                                                  ['attitude_score',\n",
       "                                                   'norms_score',\n",
       "                                                   'self_concept_score',\n",
       "                                                   'emotions_score',\n",
       "                                                   'habits_score',\n",
       "                                                   'knowledge_score',\n",
       "                                                   'information_score']),\n",
       "                                                 ('cat', OneHotEncoder(),\n",
       "                                                  ['AGE', 'GEN', 'DIS', 'EDU',\n",
       "                                                   'CWS', 'HHI'])])),\n",
       "                ('classifier', RandomForestClassifier(random_state=42))])"
      ]
     },
     "execution_count": 32,
     "metadata": {},
     "output_type": "execute_result"
    }
   ],
   "source": [
    "pipeline.fit(X_train_dummy, y_train_dummy)"
   ]
  },
  {
   "cell_type": "code",
   "execution_count": 33,
   "id": "6e63e889",
   "metadata": {},
   "outputs": [
    {
     "name": "stdout",
     "output_type": "stream",
     "text": [
      "              precision    recall  f1-score   support\n",
      "\n",
      "           1       0.55      0.56      0.55       161\n",
      "           2       0.53      0.51      0.52       154\n",
      "\n",
      "    accuracy                           0.54       315\n",
      "   macro avg       0.54      0.54      0.54       315\n",
      "weighted avg       0.54      0.54      0.54       315\n",
      "\n",
      "[[90 71]\n",
      " [75 79]]\n"
     ]
    }
   ],
   "source": [
    "# Making predictions\n",
    "y_pred_dummy = pipeline.predict(X_test_dummy)\n",
    "\n",
    "# Evaluating the model\n",
    "print(classification_report(y_test_dummy, y_pred_dummy))\n",
    "print(confusion_matrix(y_test_dummy, y_pred_dummy))"
   ]
  },
  {
   "cell_type": "code",
   "execution_count": 34,
   "id": "4495b1e7",
   "metadata": {},
   "outputs": [
    {
     "name": "stdout",
     "output_type": "stream",
     "text": [
      "Best parameters found:  {'classifier__max_depth': 10, 'classifier__min_samples_leaf': 4, 'classifier__min_samples_split': 10, 'classifier__n_estimators': 200}\n",
      "Best accuracy found:  0.5795918367346939\n"
     ]
    }
   ],
   "source": [
    "from sklearn.model_selection import GridSearchCV\n",
    "\n",
    "# Define the parameter grid to search\n",
    "param_grid = {\n",
    "    'classifier__n_estimators': [100, 200, 300, 400],\n",
    "    'classifier__max_depth': [None, 10, 20, 30, 40],\n",
    "    'classifier__min_samples_split': [2, 5, 10],\n",
    "    'classifier__min_samples_leaf': [1, 2, 4]\n",
    "}\n",
    "\n",
    "# Create a GridSearchCV object\n",
    "grid_search = GridSearchCV(pipeline, param_grid, cv=5, scoring='accuracy', n_jobs=-1)\n",
    "\n",
    "# Fit grid_search to the data\n",
    "grid_search.fit(X_train_dummy, y_train_dummy)\n",
    "\n",
    "# Print the best parameters and best score\n",
    "print(\"Best parameters found: \", grid_search.best_params_)\n",
    "print(\"Best accuracy found: \", grid_search.best_score_)"
   ]
  },
  {
   "cell_type": "code",
   "execution_count": 35,
   "id": "afb84487",
   "metadata": {},
   "outputs": [
    {
     "name": "stdout",
     "output_type": "stream",
     "text": [
      "              precision    recall  f1-score   support\n",
      "\n",
      "           1       0.56      0.58      0.57       161\n",
      "           2       0.55      0.53      0.54       154\n",
      "\n",
      "    accuracy                           0.56       315\n",
      "   macro avg       0.56      0.56      0.56       315\n",
      "weighted avg       0.56      0.56      0.56       315\n",
      "\n",
      "[[93 68]\n",
      " [72 82]]\n"
     ]
    }
   ],
   "source": [
    "# Retrain the model with the best parameters\n",
    "best_pipeline = grid_search.best_estimator_\n",
    "best_pipeline.fit(X_train_dummy, y_train_dummy)\n",
    "\n",
    "# Making predictions\n",
    "y_pred_best = best_pipeline.predict(X_test_dummy)\n",
    "\n",
    "# Evaluating the model\n",
    "print(classification_report(y_test_dummy, y_pred_best))\n",
    "print(confusion_matrix(y_test_dummy, y_pred_best))"
   ]
  },
  {
   "cell_type": "code",
   "execution_count": 36,
   "id": "02c14a75",
   "metadata": {},
   "outputs": [],
   "source": [
    "from sklearn.preprocessing import PolynomialFeatures\n",
    "\n",
    "# Example: Creating interaction features between 'attitude_score' and 'norms_score'\n",
    "data['attitude_norms_interaction'] = data['attitude_score'] * data['norms_score']\n",
    "\n",
    "# Add more interaction features as per your analysis and understanding of the data\n",
    "# For example, data['new_interaction_feature'] = data['feature1'] * data['feature2']"
   ]
  },
  {
   "cell_type": "code",
   "execution_count": 37,
   "id": "5396b649",
   "metadata": {},
   "outputs": [],
   "source": [
    "# Interaction between 'self_concept_score' and 'emotions_score'\n",
    "data['self_concept_emotions_interaction'] = data['self_concept_score'] * data['emotions_score']\n",
    "\n",
    "# Interaction between 'habits_score' and 'knowledge_score'\n",
    "data['habits_knowledge_interaction'] = data['habits_score'] * data['knowledge_score']\n",
    "\n",
    "# Interaction between 'information_score' and 'norms_score'\n",
    "data['information_norms_interaction'] = data['information_score'] * data['norms_score']\n",
    "\n",
    "# Interaction between 'attitude_score' and 'emotions_score'\n",
    "data['attitude_emotions_interaction'] = data['attitude_score'] * data['emotions_score']\n",
    "\n",
    "# Interaction between 'self_concept_score' and 'knowledge_score'\n",
    "data['self_concept_knowledge_interaction'] = data['self_concept_score'] * data['knowledge_score']"
   ]
  },
  {
   "cell_type": "code",
   "execution_count": 38,
   "id": "efcddfd7",
   "metadata": {},
   "outputs": [
    {
     "ename": "AttributeError",
     "evalue": "'PolynomialFeatures' object has no attribute 'get_feature_names'",
     "output_type": "error",
     "traceback": [
      "\u001b[1;31m---------------------------------------------------------------------------\u001b[0m",
      "\u001b[1;31mAttributeError\u001b[0m                            Traceback (most recent call last)",
      "Cell \u001b[1;32mIn[38], line 9\u001b[0m\n\u001b[0;32m      6\u001b[0m poly_features \u001b[38;5;241m=\u001b[39m poly\u001b[38;5;241m.\u001b[39mfit_transform(data[selected_features])\n\u001b[0;32m      8\u001b[0m \u001b[38;5;66;03m# Create a DataFrame with polynomial features\u001b[39;00m\n\u001b[1;32m----> 9\u001b[0m poly_features_df \u001b[38;5;241m=\u001b[39m pd\u001b[38;5;241m.\u001b[39mDataFrame(poly_features, columns\u001b[38;5;241m=\u001b[39mpoly\u001b[38;5;241m.\u001b[39mget_feature_names(selected_features))\n\u001b[0;32m     11\u001b[0m \u001b[38;5;66;03m# Drop original columns from data and add polynomial features\u001b[39;00m\n\u001b[0;32m     12\u001b[0m data \u001b[38;5;241m=\u001b[39m data\u001b[38;5;241m.\u001b[39mdrop(selected_features, axis\u001b[38;5;241m=\u001b[39m\u001b[38;5;241m1\u001b[39m)\n",
      "\u001b[1;31mAttributeError\u001b[0m: 'PolynomialFeatures' object has no attribute 'get_feature_names'"
     ]
    }
   ],
   "source": [
    "# Define a PolynomialFeatures object\n",
    "poly = PolynomialFeatures(degree=2, include_bias=False)\n",
    "\n",
    "# Select features for polynomial transformation\n",
    "selected_features = ['attitude_score', 'norms_score', 'self_concept_score', 'emotions_score', 'habits_score', 'knowledge_score', 'information_score']\n",
    "poly_features = poly.fit_transform(data[selected_features])\n",
    "\n",
    "# Create a DataFrame with polynomial features\n",
    "poly_features_df = pd.DataFrame(poly_features, columns=poly.get_feature_names(selected_features))\n",
    "\n",
    "# Drop original columns from data and add polynomial features\n",
    "data = data.drop(selected_features, axis=1)\n",
    "data = pd.concat([data, poly_features_df], axis=1)"
   ]
  },
  {
   "cell_type": "code",
   "execution_count": 39,
   "id": "ee924895",
   "metadata": {},
   "outputs": [],
   "source": [
    "# Define features and target\n",
    "X_enhanced = data.drop('C4', axis=1)\n",
    "y_enhanced = data['C4']\n",
    "\n",
    "# Split the data\n",
    "X_train_enhanced, X_test_enhanced, y_train_enhanced, y_test_enhanced = train_test_split(X_enhanced, y_enhanced, test_size=0.3, random_state=42)"
   ]
  },
  {
   "cell_type": "code",
   "execution_count": 40,
   "id": "2cf9e41e",
   "metadata": {},
   "outputs": [
    {
     "data": {
      "text/html": [
       "<style>#sk-container-id-8 {color: black;}#sk-container-id-8 pre{padding: 0;}#sk-container-id-8 div.sk-toggleable {background-color: white;}#sk-container-id-8 label.sk-toggleable__label {cursor: pointer;display: block;width: 100%;margin-bottom: 0;padding: 0.3em;box-sizing: border-box;text-align: center;}#sk-container-id-8 label.sk-toggleable__label-arrow:before {content: \"▸\";float: left;margin-right: 0.25em;color: #696969;}#sk-container-id-8 label.sk-toggleable__label-arrow:hover:before {color: black;}#sk-container-id-8 div.sk-estimator:hover label.sk-toggleable__label-arrow:before {color: black;}#sk-container-id-8 div.sk-toggleable__content {max-height: 0;max-width: 0;overflow: hidden;text-align: left;background-color: #f0f8ff;}#sk-container-id-8 div.sk-toggleable__content pre {margin: 0.2em;color: black;border-radius: 0.25em;background-color: #f0f8ff;}#sk-container-id-8 input.sk-toggleable__control:checked~div.sk-toggleable__content {max-height: 200px;max-width: 100%;overflow: auto;}#sk-container-id-8 input.sk-toggleable__control:checked~label.sk-toggleable__label-arrow:before {content: \"▾\";}#sk-container-id-8 div.sk-estimator input.sk-toggleable__control:checked~label.sk-toggleable__label {background-color: #d4ebff;}#sk-container-id-8 div.sk-label input.sk-toggleable__control:checked~label.sk-toggleable__label {background-color: #d4ebff;}#sk-container-id-8 input.sk-hidden--visually {border: 0;clip: rect(1px 1px 1px 1px);clip: rect(1px, 1px, 1px, 1px);height: 1px;margin: -1px;overflow: hidden;padding: 0;position: absolute;width: 1px;}#sk-container-id-8 div.sk-estimator {font-family: monospace;background-color: #f0f8ff;border: 1px dotted black;border-radius: 0.25em;box-sizing: border-box;margin-bottom: 0.5em;}#sk-container-id-8 div.sk-estimator:hover {background-color: #d4ebff;}#sk-container-id-8 div.sk-parallel-item::after {content: \"\";width: 100%;border-bottom: 1px solid gray;flex-grow: 1;}#sk-container-id-8 div.sk-label:hover label.sk-toggleable__label {background-color: #d4ebff;}#sk-container-id-8 div.sk-serial::before {content: \"\";position: absolute;border-left: 1px solid gray;box-sizing: border-box;top: 0;bottom: 0;left: 50%;z-index: 0;}#sk-container-id-8 div.sk-serial {display: flex;flex-direction: column;align-items: center;background-color: white;padding-right: 0.2em;padding-left: 0.2em;position: relative;}#sk-container-id-8 div.sk-item {position: relative;z-index: 1;}#sk-container-id-8 div.sk-parallel {display: flex;align-items: stretch;justify-content: center;background-color: white;position: relative;}#sk-container-id-8 div.sk-item::before, #sk-container-id-8 div.sk-parallel-item::before {content: \"\";position: absolute;border-left: 1px solid gray;box-sizing: border-box;top: 0;bottom: 0;left: 50%;z-index: -1;}#sk-container-id-8 div.sk-parallel-item {display: flex;flex-direction: column;z-index: 1;position: relative;background-color: white;}#sk-container-id-8 div.sk-parallel-item:first-child::after {align-self: flex-end;width: 50%;}#sk-container-id-8 div.sk-parallel-item:last-child::after {align-self: flex-start;width: 50%;}#sk-container-id-8 div.sk-parallel-item:only-child::after {width: 0;}#sk-container-id-8 div.sk-dashed-wrapped {border: 1px dashed gray;margin: 0 0.4em 0.5em 0.4em;box-sizing: border-box;padding-bottom: 0.4em;background-color: white;}#sk-container-id-8 div.sk-label label {font-family: monospace;font-weight: bold;display: inline-block;line-height: 1.2em;}#sk-container-id-8 div.sk-label-container {text-align: center;}#sk-container-id-8 div.sk-container {/* jupyter's `normalize.less` sets `[hidden] { display: none; }` but bootstrap.min.css set `[hidden] { display: none !important; }` so we also need the `!important` here to be able to override the default hidden behavior on the sphinx rendered scikit-learn.org. See: https://github.com/scikit-learn/scikit-learn/issues/21755 */display: inline-block !important;position: relative;}#sk-container-id-8 div.sk-text-repr-fallback {display: none;}</style><div id=\"sk-container-id-8\" class=\"sk-top-container\"><div class=\"sk-text-repr-fallback\"><pre>Pipeline(steps=[(&#x27;preprocessor&#x27;,\n",
       "                 ColumnTransformer(transformers=[(&#x27;num&#x27;, StandardScaler(),\n",
       "                                                  [&#x27;attitude_score&#x27;,\n",
       "                                                   &#x27;norms_score&#x27;,\n",
       "                                                   &#x27;self_concept_score&#x27;,\n",
       "                                                   &#x27;emotions_score&#x27;,\n",
       "                                                   &#x27;habits_score&#x27;,\n",
       "                                                   &#x27;knowledge_score&#x27;,\n",
       "                                                   &#x27;information_score&#x27;]),\n",
       "                                                 (&#x27;cat&#x27;, OneHotEncoder(),\n",
       "                                                  [&#x27;AGE&#x27;, &#x27;GEN&#x27;, &#x27;DIS&#x27;, &#x27;EDU&#x27;,\n",
       "                                                   &#x27;CWS&#x27;, &#x27;HHI&#x27;])])),\n",
       "                (&#x27;classifier&#x27;, RandomForestClassifier(random_state=42))])</pre><b>In a Jupyter environment, please rerun this cell to show the HTML representation or trust the notebook. <br />On GitHub, the HTML representation is unable to render, please try loading this page with nbviewer.org.</b></div><div class=\"sk-container\" hidden><div class=\"sk-item sk-dashed-wrapped\"><div class=\"sk-label-container\"><div class=\"sk-label sk-toggleable\"><input class=\"sk-toggleable__control sk-hidden--visually\" id=\"sk-estimator-id-50\" type=\"checkbox\" ><label for=\"sk-estimator-id-50\" class=\"sk-toggleable__label sk-toggleable__label-arrow\">Pipeline</label><div class=\"sk-toggleable__content\"><pre>Pipeline(steps=[(&#x27;preprocessor&#x27;,\n",
       "                 ColumnTransformer(transformers=[(&#x27;num&#x27;, StandardScaler(),\n",
       "                                                  [&#x27;attitude_score&#x27;,\n",
       "                                                   &#x27;norms_score&#x27;,\n",
       "                                                   &#x27;self_concept_score&#x27;,\n",
       "                                                   &#x27;emotions_score&#x27;,\n",
       "                                                   &#x27;habits_score&#x27;,\n",
       "                                                   &#x27;knowledge_score&#x27;,\n",
       "                                                   &#x27;information_score&#x27;]),\n",
       "                                                 (&#x27;cat&#x27;, OneHotEncoder(),\n",
       "                                                  [&#x27;AGE&#x27;, &#x27;GEN&#x27;, &#x27;DIS&#x27;, &#x27;EDU&#x27;,\n",
       "                                                   &#x27;CWS&#x27;, &#x27;HHI&#x27;])])),\n",
       "                (&#x27;classifier&#x27;, RandomForestClassifier(random_state=42))])</pre></div></div></div><div class=\"sk-serial\"><div class=\"sk-item sk-dashed-wrapped\"><div class=\"sk-label-container\"><div class=\"sk-label sk-toggleable\"><input class=\"sk-toggleable__control sk-hidden--visually\" id=\"sk-estimator-id-51\" type=\"checkbox\" ><label for=\"sk-estimator-id-51\" class=\"sk-toggleable__label sk-toggleable__label-arrow\">preprocessor: ColumnTransformer</label><div class=\"sk-toggleable__content\"><pre>ColumnTransformer(transformers=[(&#x27;num&#x27;, StandardScaler(),\n",
       "                                 [&#x27;attitude_score&#x27;, &#x27;norms_score&#x27;,\n",
       "                                  &#x27;self_concept_score&#x27;, &#x27;emotions_score&#x27;,\n",
       "                                  &#x27;habits_score&#x27;, &#x27;knowledge_score&#x27;,\n",
       "                                  &#x27;information_score&#x27;]),\n",
       "                                (&#x27;cat&#x27;, OneHotEncoder(),\n",
       "                                 [&#x27;AGE&#x27;, &#x27;GEN&#x27;, &#x27;DIS&#x27;, &#x27;EDU&#x27;, &#x27;CWS&#x27;, &#x27;HHI&#x27;])])</pre></div></div></div><div class=\"sk-parallel\"><div class=\"sk-parallel-item\"><div class=\"sk-item\"><div class=\"sk-label-container\"><div class=\"sk-label sk-toggleable\"><input class=\"sk-toggleable__control sk-hidden--visually\" id=\"sk-estimator-id-52\" type=\"checkbox\" ><label for=\"sk-estimator-id-52\" class=\"sk-toggleable__label sk-toggleable__label-arrow\">num</label><div class=\"sk-toggleable__content\"><pre>[&#x27;attitude_score&#x27;, &#x27;norms_score&#x27;, &#x27;self_concept_score&#x27;, &#x27;emotions_score&#x27;, &#x27;habits_score&#x27;, &#x27;knowledge_score&#x27;, &#x27;information_score&#x27;]</pre></div></div></div><div class=\"sk-serial\"><div class=\"sk-item\"><div class=\"sk-estimator sk-toggleable\"><input class=\"sk-toggleable__control sk-hidden--visually\" id=\"sk-estimator-id-53\" type=\"checkbox\" ><label for=\"sk-estimator-id-53\" class=\"sk-toggleable__label sk-toggleable__label-arrow\">StandardScaler</label><div class=\"sk-toggleable__content\"><pre>StandardScaler()</pre></div></div></div></div></div></div><div class=\"sk-parallel-item\"><div class=\"sk-item\"><div class=\"sk-label-container\"><div class=\"sk-label sk-toggleable\"><input class=\"sk-toggleable__control sk-hidden--visually\" id=\"sk-estimator-id-54\" type=\"checkbox\" ><label for=\"sk-estimator-id-54\" class=\"sk-toggleable__label sk-toggleable__label-arrow\">cat</label><div class=\"sk-toggleable__content\"><pre>[&#x27;AGE&#x27;, &#x27;GEN&#x27;, &#x27;DIS&#x27;, &#x27;EDU&#x27;, &#x27;CWS&#x27;, &#x27;HHI&#x27;]</pre></div></div></div><div class=\"sk-serial\"><div class=\"sk-item\"><div class=\"sk-estimator sk-toggleable\"><input class=\"sk-toggleable__control sk-hidden--visually\" id=\"sk-estimator-id-55\" type=\"checkbox\" ><label for=\"sk-estimator-id-55\" class=\"sk-toggleable__label sk-toggleable__label-arrow\">OneHotEncoder</label><div class=\"sk-toggleable__content\"><pre>OneHotEncoder()</pre></div></div></div></div></div></div></div></div><div class=\"sk-item\"><div class=\"sk-estimator sk-toggleable\"><input class=\"sk-toggleable__control sk-hidden--visually\" id=\"sk-estimator-id-56\" type=\"checkbox\" ><label for=\"sk-estimator-id-56\" class=\"sk-toggleable__label sk-toggleable__label-arrow\">RandomForestClassifier</label><div class=\"sk-toggleable__content\"><pre>RandomForestClassifier(random_state=42)</pre></div></div></div></div></div></div></div>"
      ],
      "text/plain": [
       "Pipeline(steps=[('preprocessor',\n",
       "                 ColumnTransformer(transformers=[('num', StandardScaler(),\n",
       "                                                  ['attitude_score',\n",
       "                                                   'norms_score',\n",
       "                                                   'self_concept_score',\n",
       "                                                   'emotions_score',\n",
       "                                                   'habits_score',\n",
       "                                                   'knowledge_score',\n",
       "                                                   'information_score']),\n",
       "                                                 ('cat', OneHotEncoder(),\n",
       "                                                  ['AGE', 'GEN', 'DIS', 'EDU',\n",
       "                                                   'CWS', 'HHI'])])),\n",
       "                ('classifier', RandomForestClassifier(random_state=42))])"
      ]
     },
     "execution_count": 40,
     "metadata": {},
     "output_type": "execute_result"
    }
   ],
   "source": [
    "# Retrain the model\n",
    "pipeline.fit(X_train_enhanced, y_train_enhanced)"
   ]
  },
  {
   "cell_type": "code",
   "execution_count": 41,
   "id": "0a6a5a06",
   "metadata": {},
   "outputs": [
    {
     "name": "stdout",
     "output_type": "stream",
     "text": [
      "              precision    recall  f1-score   support\n",
      "\n",
      "           1       0.54      0.81      0.65       161\n",
      "           2       0.67      0.04      0.07        54\n",
      "           3       0.44      0.31      0.36       100\n",
      "\n",
      "    accuracy                           0.52       315\n",
      "   macro avg       0.55      0.39      0.36       315\n",
      "weighted avg       0.53      0.52      0.46       315\n",
      "\n",
      "[[131   0  30]\n",
      " [ 43   2   9]\n",
      " [ 68   1  31]]\n"
     ]
    }
   ],
   "source": [
    "# Making predictions\n",
    "y_pred_enhanced = pipeline.predict(X_test_enhanced)\n",
    "\n",
    "# Evaluating the model\n",
    "print(classification_report(y_test_enhanced, y_pred_enhanced))\n",
    "print(confusion_matrix(y_test_enhanced, y_pred_enhanced))"
   ]
  },
  {
   "cell_type": "code",
   "execution_count": null,
   "id": "e6fce7a0",
   "metadata": {},
   "outputs": [],
   "source": []
  }
 ],
 "metadata": {
  "kernelspec": {
   "display_name": "Python 3 (ipykernel)",
   "language": "python",
   "name": "python3"
  },
  "language_info": {
   "codemirror_mode": {
    "name": "ipython",
    "version": 3
   },
   "file_extension": ".py",
   "mimetype": "text/x-python",
   "name": "python",
   "nbconvert_exporter": "python",
   "pygments_lexer": "ipython3",
   "version": "3.11.5"
  }
 },
 "nbformat": 4,
 "nbformat_minor": 5
}
